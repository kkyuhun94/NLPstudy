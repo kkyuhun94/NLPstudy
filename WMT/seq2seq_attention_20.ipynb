{
 "cells": [
  {
   "cell_type": "code",
   "execution_count": 1,
   "metadata": {
    "scrolled": true
   },
   "outputs": [
    {
     "name": "stdout",
     "output_type": "stream",
     "text": [
      "Defaulting to user installation because normal site-packages is not writeable\n",
      "Requirement already satisfied: spacy in /opt/conda/lib/python3.6/site-packages (2.0.16)\n",
      "Requirement already satisfied: numpy>=1.15.0 in /opt/conda/lib/python3.6/site-packages (from spacy) (1.18.1)\n",
      "Requirement already satisfied: msgpack-numpy<0.4.4 in /opt/conda/lib/python3.6/site-packages (from spacy) (0.4.3.2)\n",
      "Requirement already satisfied: murmurhash<1.1.0,>=0.28.0 in /opt/conda/lib/python3.6/site-packages (from spacy) (1.0.2)\n",
      "Requirement already satisfied: cymem<2.1.0,>=2.0.2 in /opt/conda/lib/python3.6/site-packages (from spacy) (2.0.2)\n",
      "Requirement already satisfied: preshed<2.1.0,>=2.0.1 in /opt/conda/lib/python3.6/site-packages (from spacy) (2.0.1)\n",
      "Requirement already satisfied: thinc<6.13.0,>=6.12.0 in /opt/conda/lib/python3.6/site-packages (from spacy) (6.12.1)\n",
      "Requirement already satisfied: plac<1.0.0,>=0.9.6 in /opt/conda/lib/python3.6/site-packages (from spacy) (0.9.6)\n",
      "Requirement already satisfied: ujson>=1.35 in /opt/conda/lib/python3.6/site-packages (from spacy) (2.0.3)\n",
      "Requirement already satisfied: dill<0.3,>=0.2 in /opt/conda/lib/python3.6/site-packages (from spacy) (0.2.9)\n",
      "Collecting regex==2018.01.10\n",
      "  Downloading regex-2018.01.10.tar.gz (612 kB)\n",
      "\u001b[K     |████████████████████████████████| 612 kB 2.1 MB/s eta 0:00:01\n",
      "\u001b[?25hRequirement already satisfied: requests<3.0.0,>=2.13.0 in /opt/conda/lib/python3.6/site-packages (from spacy) (2.23.0)\n",
      "Requirement already satisfied: msgpack>=0.3.0 in /opt/conda/lib/python3.6/site-packages (from msgpack-numpy<0.4.4->spacy) (0.6.1)\n",
      "Requirement already satisfied: cytoolz<0.10,>=0.9.0 in /opt/conda/lib/python3.6/site-packages (from thinc<6.13.0,>=6.12.0->spacy) (0.9.0.1)\n",
      "Requirement already satisfied: wrapt<1.11.0,>=1.10.0 in /opt/conda/lib/python3.6/site-packages (from thinc<6.13.0,>=6.12.0->spacy) (1.10.11)\n",
      "Requirement already satisfied: tqdm<5.0.0,>=4.10.0 in /opt/conda/lib/python3.6/site-packages (from thinc<6.13.0,>=6.12.0->spacy) (4.31.1)\n",
      "Requirement already satisfied: six<2.0.0,>=1.10.0 in /opt/conda/lib/python3.6/site-packages (from thinc<6.13.0,>=6.12.0->spacy) (1.15.0)\n",
      "Requirement already satisfied: certifi>=2017.4.17 in /opt/conda/lib/python3.6/site-packages (from requests<3.0.0,>=2.13.0->spacy) (2020.4.5.1)\n",
      "Requirement already satisfied: chardet<4,>=3.0.2 in /opt/conda/lib/python3.6/site-packages (from requests<3.0.0,>=2.13.0->spacy) (3.0.4)\n",
      "Requirement already satisfied: idna<3,>=2.5 in /opt/conda/lib/python3.6/site-packages (from requests<3.0.0,>=2.13.0->spacy) (2.9)\n",
      "Requirement already satisfied: urllib3!=1.25.0,!=1.25.1,<1.26,>=1.21.1 in /opt/conda/lib/python3.6/site-packages (from requests<3.0.0,>=2.13.0->spacy) (1.25.8)\n",
      "Requirement already satisfied: toolz>=0.8.0 in /opt/conda/lib/python3.6/site-packages (from cytoolz<0.10,>=0.9.0->thinc<6.13.0,>=6.12.0->spacy) (0.10.0)\n",
      "Building wheels for collected packages: regex\n",
      "  Building wheel for regex (setup.py) ... \u001b[?25ldone\n",
      "\u001b[?25h  Created wheel for regex: filename=regex-2018.1.10-cp36-cp36m-linux_x86_64.whl size=552149 sha256=991fa1e6fd17a2839471a7a3d0ed620a765757b4f98caf62d3c5b92395ba40b8\n",
      "  Stored in directory: /home/work/.cache/pip/wheels/4b/72/79/772fa2486e5eafc62bd47cd83bf724c129569dd09c24d55cc0\n",
      "Successfully built regex\n",
      "Installing collected packages: regex\n",
      "Successfully installed regex-2018.1.10\n",
      "Defaulting to user installation because normal site-packages is not writeable\n",
      "Collecting fr_core_news_sm==2.0.0\n",
      "  Downloading https://github.com/explosion/spacy-models/releases/download/fr_core_news_sm-2.0.0/fr_core_news_sm-2.0.0.tar.gz (39.8 MB)\n",
      "\u001b[K     |████████████████████████████████| 39.8 MB 8.2 MB/s eta 0:00:01\n",
      "\u001b[?25hBuilding wheels for collected packages: fr-core-news-sm\n",
      "  Building wheel for fr-core-news-sm (setup.py) ... \u001b[?25ldone\n",
      "\u001b[?25h  Created wheel for fr-core-news-sm: filename=fr_core_news_sm-2.0.0-py3-none-any.whl size=39841462 sha256=607f217230422231e18421e9c09b455e1db038dc64585040fef14bb86d26d29a\n",
      "  Stored in directory: /tmp/pip-ephem-wheel-cache-c3ivqfma/wheels/46/df/13/b060ba26a65a7cb17e5e7855de0251724fc2862d7843e8af01\n",
      "Successfully built fr-core-news-sm\n",
      "Installing collected packages: fr-core-news-sm\n",
      "Successfully installed fr-core-news-sm-2.0.0\n",
      "\n",
      "\u001b[93m    Error: Couldn't link model to 'fr_core_news_sm'\u001b[0m\n",
      "    Creating a symlink in spacy/data failed. Make sure you have the required\n",
      "    permissions and try re-running the command as admin, or use a\n",
      "    virtualenv. You can still import the model as a module and call its\n",
      "    load() method, or create the symlink manually.\n",
      "\n",
      "    /home/work/.local/lib/python3.6/site-packages/fr_core_news_sm -->\n",
      "    /opt/conda/lib/python3.6/site-packages/spacy/data/fr_core_news_sm\n",
      "\n",
      "\n",
      "\u001b[93m    Creating a shortcut link for 'en' didn't work (maybe you don't have\n",
      "    admin permissions?), but you can still load the model via its full\n",
      "    package name: nlp = spacy.load('{name}')\u001b[0m\n",
      "    Download successful but linking failed\n",
      "\n",
      "Defaulting to user installation because normal site-packages is not writeable\n",
      "Collecting en_core_web_sm==2.0.0\n",
      "  Downloading https://github.com/explosion/spacy-models/releases/download/en_core_web_sm-2.0.0/en_core_web_sm-2.0.0.tar.gz (37.4 MB)\n",
      "\u001b[K     |████████████████████████████████| 37.4 MB 9.1 MB/s eta 0:00:01\n",
      "\u001b[?25hBuilding wheels for collected packages: en-core-web-sm\n",
      "  Building wheel for en-core-web-sm (setup.py) ... \u001b[?25ldone\n",
      "\u001b[?25h  Created wheel for en-core-web-sm: filename=en_core_web_sm-2.0.0-py3-none-any.whl size=37405976 sha256=9ca4720a41137ecba4311b54e7ac154cd164dc01b9db32fb5f225edeac644aad\n",
      "  Stored in directory: /tmp/pip-ephem-wheel-cache-774jwjwz/wheels/eb/1a/34/e8e3f55df7db1d8a368d9f861a0d2bd760c10f6ca8ea501515\n",
      "Successfully built en-core-web-sm\n",
      "Installing collected packages: en-core-web-sm\n",
      "Successfully installed en-core-web-sm-2.0.0\n",
      "\n",
      "\u001b[93m    Error: Couldn't link model to 'en_core_web_sm'\u001b[0m\n",
      "    Creating a symlink in spacy/data failed. Make sure you have the required\n",
      "    permissions and try re-running the command as admin, or use a\n",
      "    virtualenv. You can still import the model as a module and call its\n",
      "    load() method, or create the symlink manually.\n",
      "\n",
      "    /home/work/.local/lib/python3.6/site-packages/en_core_web_sm -->\n",
      "    /opt/conda/lib/python3.6/site-packages/spacy/data/en_core_web_sm\n",
      "\n",
      "\n",
      "\u001b[93m    Creating a shortcut link for 'en' didn't work (maybe you don't have\n",
      "    admin permissions?), but you can still load the model via its full\n",
      "    package name: nlp = spacy.load('{name}')\u001b[0m\n",
      "    Download successful but linking failed\n",
      "\n"
     ]
    }
   ],
   "source": [
    "!pip install spacy\n",
    "!python -m spacy download fr_core_news_sm\n",
    "!python -m spacy download en_core_web_sm"
   ]
  },
  {
   "cell_type": "code",
   "execution_count": 92,
   "metadata": {},
   "outputs": [],
   "source": [
    "import spacy\n",
    "import torchtext\n",
    "from torchtext.data import Field, BucketIterator, TabularDataset\n",
    "\n",
    "spacy_en = spacy.load('en_core_web_sm')\n",
    "spacy_fr = spacy.load('fr_core_news_sm')\n",
    "\n",
    "def tokenize_en(sentence):\n",
    "    return [tok.text for tok in spacy_en.tokenizer(sentence)]\n",
    "\n",
    "# REVERSE SENTENCES\n",
    "def tokenize_fr(sentence):\n",
    "    return [tok.text for tok in spacy_fr.tokenizer(sentence)]\n",
    "\n",
    "TRG = Field(tokenize=tokenize_en, init_token = \"<sos>\", eos_token = \"<eos>\")\n",
    "SRC = Field(tokenize=tokenize_fr, init_token = \"<sos>\", eos_token = \"<eos>\")"
   ]
  },
  {
   "cell_type": "code",
   "execution_count": 2,
   "metadata": {},
   "outputs": [
    {
     "name": "stdout",
     "output_type": "stream",
     "text": [
      "2021-04-12-11:20:23\n",
      "2021-04-12-11:25:45\n"
     ]
    }
   ],
   "source": [
    "from datetime import datetime\n",
    "print(datetime.now().strftime('%Y-%m-%d-%H:%M:%S'))\n",
    "\n",
    "# associate the text in the 'English' trg column with the TRG field, # and 'French' src column with SRC field\n",
    "data_fields = [('trg', TRG), ('src', SRC)]\n",
    "\n",
    "train_data, test_data = TabularDataset.splits(path='.',\n",
    "                                  train = 'train_data_20.csv',\n",
    "                                  test = 'test_data_20.csv',\n",
    "                                  format = 'csv',\n",
    "                                  fields = data_fields,\n",
    "                                  skip_header = True )\n",
    "\n",
    "print(datetime.now().strftime('%Y-%m-%d-%H:%M:%S'))"
   ]
  },
  {
   "cell_type": "code",
   "execution_count": 3,
   "metadata": {},
   "outputs": [
    {
     "name": "stdout",
     "output_type": "stream",
     "text": [
      "훈련 샘플의 개수 : 535428\n",
      "테스트 샘플의 개수 : 133857\n"
     ]
    }
   ],
   "source": [
    "print('훈련 샘플의 개수 : {}'.format(len(train_data)))\n",
    "print('테스트 샘플의 개수 : {}'.format(len(test_data)))"
   ]
  },
  {
   "cell_type": "code",
   "execution_count": 4,
   "metadata": {},
   "outputs": [],
   "source": [
    "TRG.build_vocab(train_data, min_freq=2)\n",
    "SRC.build_vocab(train_data, min_freq=2)"
   ]
  },
  {
   "cell_type": "code",
   "execution_count": 5,
   "metadata": {},
   "outputs": [
    {
     "name": "stdout",
     "output_type": "stream",
     "text": [
      "len(SRC): 42405\n",
      "len(TRG): 32929\n"
     ]
    }
   ],
   "source": [
    "print(f\"len(SRC): {len(SRC.vocab)}\")\n",
    "print(f\"len(TRG): {len(TRG.vocab)}\")"
   ]
  },
  {
   "cell_type": "code",
   "execution_count": 6,
   "metadata": {},
   "outputs": [
    {
     "name": "stdout",
     "output_type": "stream",
     "text": [
      "5\n",
      ".\n"
     ]
    }
   ],
   "source": [
    "print(TRG.vocab.stoi['the'])\n",
    "print(TRG.vocab.itos[4])"
   ]
  },
  {
   "cell_type": "code",
   "execution_count": 7,
   "metadata": {},
   "outputs": [
    {
     "name": "stdout",
     "output_type": "stream",
     "text": [
      "0\n",
      "1\n",
      "2\n",
      "3\n",
      "0\n",
      "222\n"
     ]
    }
   ],
   "source": [
    "print(TRG.vocab.stoi[\"abcabc\"]) # 없는 단어: 0\n",
    "print(TRG.vocab.stoi[TRG.pad_token]) # 패딩(padding): 1\n",
    "print(TRG.vocab.stoi[\"<sos>\"]) # <sos>: 2\n",
    "print(TRG.vocab.stoi[\"<eos>\"]) # <eos>: 3\n",
    "print(TRG.vocab.stoi[\"hello\"])\n",
    "print(TRG.vocab.stoi[\"world\"])"
   ]
  },
  {
   "cell_type": "code",
   "execution_count": 8,
   "metadata": {},
   "outputs": [
    {
     "name": "stdout",
     "output_type": "stream",
     "text": [
      "cuda\n"
     ]
    }
   ],
   "source": [
    "import torch\n",
    "\n",
    "device = torch.device('cuda' if torch.cuda.is_available() else 'cpu')\n",
    "print(device)\n",
    "\n",
    "BATCH_SIZE = 8\n",
    "\n",
    "train_iterator, valid_iterator = BucketIterator.splits(\n",
    "    (train_data, test_data),\n",
    "    sort = False, # Tabular -> error. \n",
    "    batch_size = BATCH_SIZE,\n",
    "    device = device)"
   ]
  },
  {
   "cell_type": "code",
   "execution_count": 9,
   "metadata": {
    "scrolled": true
   },
   "outputs": [
    {
     "name": "stdout",
     "output_type": "stream",
     "text": [
      "첫 번째 배치 크기: torch.Size([25, 8])\n",
      "인덱스 0: 2\n",
      "인덱스 1: 136\n",
      "인덱스 2: 12\n",
      "인덱스 3: 969\n",
      "인덱스 4: 1548\n",
      "인덱스 5: 27\n",
      "인덱스 6: 3455\n",
      "인덱스 7: 21\n",
      "인덱스 8: 4\n",
      "인덱스 9: 3\n",
      "인덱스 10: 1\n",
      "인덱스 11: 1\n",
      "인덱스 12: 1\n",
      "인덱스 13: 1\n",
      "인덱스 14: 1\n",
      "인덱스 15: 1\n",
      "인덱스 16: 1\n",
      "인덱스 17: 1\n",
      "인덱스 18: 1\n",
      "인덱스 19: 1\n",
      "인덱스 20: 1\n",
      "인덱스 21: 1\n",
      "인덱스 22: 1\n",
      "인덱스 23: 1\n",
      "인덱스 24: 1\n"
     ]
    }
   ],
   "source": [
    "for i, batch in enumerate(train_iterator):\n",
    "    src = batch.src\n",
    "    trg = batch.trg\n",
    "\n",
    "    print(f\"첫 번째 배치 크기: {src.shape}\")\n",
    "\n",
    "    # 현재 배치에 있는 하나의 문장에 포함된 정보 출력\n",
    "    for i in range(src.shape[0]):\n",
    "        print(f\"인덱스 {i}: {src[i][0].item()}\")\n",
    "\n",
    "    # 첫 번째 배치만 확인\n",
    "    break"
   ]
  },
  {
   "cell_type": "markdown",
   "metadata": {},
   "source": [
    "## Encoder\n",
    "* hyperparameter\n",
    "    * input_dim : 하나의 단어에 대한 one-hot encoding 차원\n",
    "    * embed_dim : embedding 차원\n",
    "    * enc_hidden_dim : encoder hidden state dim\n",
    "    * dec_hidden_dim : decoder hidden state dim\n",
    "    * dropout_ratio : dropout !pip install spacy\n"
   ]
  },
  {
   "cell_type": "code",
   "execution_count": 10,
   "metadata": {},
   "outputs": [],
   "source": [
    "import torch.nn as nn\n",
    "\n",
    "# 인코더(Encoder) 아키텍처 정의\n",
    "class Encoder(nn.Module):\n",
    "    def __init__(self, input_dim, embed_dim, enc_hidden_dim, dec_hidden_dim, dropout_ratio):\n",
    "        super().__init__()\n",
    "\n",
    "        # 임베딩(embedding)은 원-핫 인코딩(one-hot encoding)을 특정 차원의 임베딩으로 매핑하는 레이어\n",
    "        self.embedding = nn.Embedding(input_dim, embed_dim)\n",
    "\n",
    "        # 양방향(bidirectional) GRU 레이어\n",
    "        self.rnn = nn.GRU(embed_dim, enc_hidden_dim, bidirectional=True)\n",
    "\n",
    "        # FC 레이어\n",
    "        self.fc = nn.Linear(enc_hidden_dim * 2, dec_hidden_dim)\n",
    "\n",
    "        # 드롭아웃(dropout)\n",
    "        self.dropout = nn.Dropout(dropout_ratio)\n",
    "\n",
    "    # 인코더는 소스 문장을 입력으로 받아 문맥 벡터(context vector)를 반환        \n",
    "    def forward(self, src):\n",
    "        # src: [단어 개수, 배치 크기]: 각 단어의 인덱스(index) 정보\n",
    "        embedded = self.dropout(self.embedding(src))\n",
    "        # embedded: [단어 개수, 배치 크기, 임베딩 차원]\n",
    "\n",
    "        outputs, hidden = self.rnn(embedded)\n",
    "        # outputs: [단어 개수, 배치 크기, 인코더 히든 차원 * 방향의 수]: 전체 단어의 출력 정보\n",
    "        # hidden: [레이어 개수 * 방향의 수, 배치 크기, 인코더 히든 차원]: 현재까지의 모든 단어의 정보\n",
    "\n",
    "        # hidden은 [forward_1, backward_1, forward_2, backward_2, ...] 형태로 구성\n",
    "        # 따라서 hidden[-2, :, :]은 forwards의 마지막 값\n",
    "        # 따라서 hidden[-1, :, :]은 backwards의 마지막 값\n",
    "        # 디코더(decoder)의 첫 번째 hidden (context) vector는 인코더의 마지막 hidden을 이용\n",
    "        hidden = torch.tanh(self.fc(torch.cat((hidden[-2,:,:], hidden[-1,:,:]), dim=1)))\n",
    "\n",
    "        # outputs은 Attention 목적으로, hidden은 context vector 목적으로 사용\n",
    "        return outputs, hidden"
   ]
  },
  {
   "cell_type": "markdown",
   "metadata": {},
   "source": [
    "## Attention architecture\n",
    "* 하나의 attention은 인코더의 전체 토큰에 대한 출력을 입력으로 받는 FC파라미터를 공유해서 사용\n",
    "* (전체 인코더 출력 + 현재 디코더의 히든) $\\to$ 디코더의 히든 $\\to$ 실제 attention 값\n",
    "* hyperparameter\n",
    "    * enc_hidden_dim : 인코더의 hidden state 차원\n",
    "    * dec_hidden_dim : 디코더의 hidden state 차원 "
   ]
  },
  {
   "cell_type": "code",
   "execution_count": 11,
   "metadata": {},
   "outputs": [],
   "source": [
    "import torch.nn.functional as F\n",
    "\n",
    "# 어텐션(Attention) 아키텍처 정의\n",
    "class Attention(nn.Module):\n",
    "    def __init__(self, enc_hidden_dim, dec_hidden_dim):\n",
    "        super().__init__()\n",
    "\n",
    "        self.attn = nn.Linear((enc_hidden_dim * 2) + dec_hidden_dim, dec_hidden_dim)\n",
    "        self.v = nn.Linear(dec_hidden_dim, 1, bias=False)\n",
    "\n",
    "    def forward(self, hidden, enc_outputs):\n",
    "        # hidden: [배치 크기, 히든 차원]: 현재까지의 모든 단어의 정보\n",
    "        # enc_outputs: [단어 개수, 배치 크기, 인코더 히든 차원 * 방향의 수]: 전체 단어의 출력 정보\n",
    "        batch_size = enc_outputs.shape[1]\n",
    "        src_len = enc_outputs.shape[0]\n",
    "\n",
    "        # 현재 디코더의 히든 상태(hidden state)를 src_len만큼 반복\n",
    "        hidden = hidden.unsqueeze(1).repeat(1, src_len, 1)\n",
    "        enc_outputs = enc_outputs.permute(1, 0, 2)\n",
    "        # hidden: [배치 크기, 단어 개수, 디코더 히든 차원]: 현재까지의 모든 단어의 정보\n",
    "        # enc_outputs: [배치 크기, 단어 개수, 인코더 히든 차원 * 방향의 수]: 전체 단어의 출력 정보\n",
    "\n",
    "        energy = torch.tanh(self.attn(torch.cat((hidden, enc_outputs), dim=2)))\n",
    "        # energy: [배치 크기, 단어 개수, 디코더 히든 차원]\n",
    "\n",
    "        attention = self.v(energy).squeeze(2)\n",
    "        # attention: [배치 크기, 단어 개수]: 실제 각 단어에 대한 어텐선(attention) 값들\n",
    "\n",
    "        return F.softmax(attention, dim=1)"
   ]
  },
  {
   "cell_type": "markdown",
   "metadata": {},
   "source": [
    "## Decoder architecture\n",
    "* 주어진 context vector를 타겟 문장으로 디코딩함\n",
    "* 단, 디코딩 과정에서 매번 인코더의 모든 출력에 대하여 attention 함\n",
    "* hyperparameter\n",
    "    * output_dim : 하나의 단어에 대한 원핫 인코딩 차원\n",
    "    * embed_dim : 임베딩 차원\n",
    "    * enc_hidden_dim : 인코더의 hidden state 차원\n",
    "    * dec_hidden_dim : 디코더의 hidden state 차원 \n",
    "    * dropout_ratio : dropout proportion"
   ]
  },
  {
   "cell_type": "code",
   "execution_count": 12,
   "metadata": {},
   "outputs": [],
   "source": [
    "\n",
    "# 디코더(Decoder) 아키텍처 정의\n",
    "class Decoder(nn.Module):\n",
    "    def __init__(self, output_dim, embed_dim, enc_hidden_dim, dec_hidden_dim, dropout_ratio, attention):\n",
    "        super().__init__()\n",
    "\n",
    "        self.output_dim = output_dim\n",
    "        self.attention = attention\n",
    "\n",
    "        # 임베딩(embedding)은 원-핫 인코딩(one-hot encoding) 말고 특정 차원의 임베딩으로 매핑하는 레이어\n",
    "        self.embedding = nn.Embedding(output_dim, embed_dim)\n",
    "\n",
    "        # GRU 레이어\n",
    "        self.rnn = nn.GRU((enc_hidden_dim * 2) + embed_dim, dec_hidden_dim)\n",
    "\n",
    "        # FC 레이어\n",
    "        self.fc_out = nn.Linear((enc_hidden_dim * 2) + dec_hidden_dim + embed_dim, output_dim)\n",
    "        \n",
    "        # 드롭아웃(dropout)\n",
    "        self.dropout = nn.Dropout(dropout_ratio)\n",
    "\n",
    "    # 디코더는 현재까지 출력된 문장에 대한 정보를 입력으로 받아 타겟 문장을 반환     \n",
    "    def forward(self, input, hidden, enc_outputs):\n",
    "        # input: [배치 크기]: 단어의 개수는 항상 1개이도록 구현\n",
    "        # hidden: [배치 크기, 히든 차원]\n",
    "        # enc_outputs: [단어 개수, 배치 크기, 인코더 히든 차원 * 방향의 수]: 전체 단어의 출력 정보\n",
    "        input = input.unsqueeze(0)\n",
    "        # input: [단어 개수 = 1, 배치 크기]\n",
    "\n",
    "        embedded = self.dropout(self.embedding(input))\n",
    "        # embedded: [단어 개수 = 1, 배치 크기, 임베딩 차원]\n",
    "\n",
    "        attention = self.attention(hidden, enc_outputs)\n",
    "        # attention: [배치 크기, 단어 개수]: 실제 각 단어에 대한 어텐선(attention) 값들\n",
    "        attention = attention.unsqueeze(1)\n",
    "        # attention: [배치 크기, 1, 단어 개수]: 실제 각 단어에 대한 어텐선(attention) 값들\n",
    "\n",
    "        enc_outputs = enc_outputs.permute(1, 0, 2)\n",
    "        # enc_outputs: [배치 크기, 단어 개수, 인코더 히든 차원 * 방향의 수]: 전체 단어의 출력 정보\n",
    "\n",
    "        weighted = torch.bmm(attention, enc_outputs) # 행렬 곱 함수\n",
    "        # weighted: [배치 크기, 1, 인코더 히든 차원 * 방향의 수]\n",
    "\n",
    "        weighted = weighted.permute(1, 0, 2)\n",
    "        # weighted: [1, 배치 크기, 인코더 히든 차원 * 방향의 수]\n",
    "        \n",
    "        rnn_input = torch.cat((embedded, weighted), dim=2)\n",
    "        # rnn_input: [1, 배치 크기, 인코더 히든 차원 * 방향의 수 + embed_dim]: 어텐션이 적용된 현재 단어 입력 정보\n",
    "        \n",
    "        output, hidden = self.rnn(rnn_input, hidden.unsqueeze(0))\n",
    "        # output: [단어 개수, 배치 크기, 디코더 히든 차원 * 방향의 수]\n",
    "        # hidden: [레이어 개수 * 방향의 수, 배치 크기, 디코더 히든 차원]: 현재까지의 모든 단어의 정보\n",
    "\n",
    "        # 현재 예제에서는 단어 개수, 레이어 개수, 방향의 수 모두 1의 값을 가짐\n",
    "        # 따라서 output: [1, 배치 크기, 디코더 히든 차원], hidden: [1, 배치 크기, 디코더 히든 차원]\n",
    "        # 다시 말해 output과 hidden의 값 또한 동일\n",
    "        assert (output == hidden).all()\n",
    "\n",
    "        embedded = embedded.squeeze(0)\n",
    "        output = output.squeeze(0)\n",
    "        weighted = weighted.squeeze(0)\n",
    "        \n",
    "        prediction = self.fc_out(torch.cat((output, weighted, embedded), dim=1))\n",
    "        # prediction = [배치 크기, 출력 차원]\n",
    "        \n",
    "        # (현재 출력 단어, 현재까지의 모든 단어의 정보)\n",
    "        return prediction, hidden.squeeze(0)"
   ]
  },
  {
   "cell_type": "markdown",
   "metadata": {},
   "source": [
    "## Seq2Seq with Attention\n",
    "* encoder-decoder architecture\n",
    "    * encoder : sequence(src) $\\to$ context vector\n",
    "    * decoder : context vector $\\to$ sequence(trg)\n",
    "        * 디코더는 한 단어 당 한 번씩 결과를 구함\n",
    "        * 인코더의 모든 출력을 참고하여 어텐션(attention)을 진행 \n",
    "    * teacher forcing : 디코더의 예측(prediction)을 다음 입력으로 사용하지 않고, 실제 목표 출력(ground-truth)을 다음 입력으로 사용"
   ]
  },
  {
   "cell_type": "code",
   "execution_count": 13,
   "metadata": {},
   "outputs": [],
   "source": [
    "class Seq2Seq(nn.Module):\n",
    "    def __init__(self, encoder, decoder, device):\n",
    "        super().__init__()\n",
    "\n",
    "        self.encoder = encoder\n",
    "        self.decoder = decoder\n",
    "        self.device = device\n",
    "\n",
    "    # 학습할 때는 완전한 형태의 소스 문장, 타겟 문장, teacher_forcing_ratio를 넣기\n",
    "    def forward(self, src, trg, teacher_forcing_ratio=0.5):\n",
    "        # src: [단어 개수, 배치 크기]\n",
    "        # trg: [단어 개수, 배치 크기]\n",
    "        # 먼저 인코더를 거쳐 전체 출력과 문맥 벡터(context vector)를 추출\n",
    "        enc_outputs, hidden = self.encoder(src)\n",
    "\n",
    "        # 디코더(decoder)의 최종 결과를 담을 텐서 객체 만들기\n",
    "        trg_len = trg.shape[0] # 단어 개수\n",
    "        batch_size = trg.shape[1] # 배치 크기\n",
    "        trg_vocab_size = self.decoder.output_dim # 출력 차원\n",
    "        outputs = torch.zeros(trg_len, batch_size, trg_vocab_size).to(self.device)\n",
    "\n",
    "        # 첫 번째 입력은 항상 <sos> 토큰\n",
    "        input = trg[0, :]\n",
    "\n",
    "        # 타겟 단어의 개수만큼 반복하여 디코더에 포워딩(forwarding)\n",
    "        for t in range(1, trg_len):\n",
    "            output, hidden = self.decoder(input, hidden, enc_outputs)\n",
    "\n",
    "            outputs[t] = output # FC를 거쳐서 나온 현재의 출력 단어 정보\n",
    "            top1 = output.argmax(1) # 가장 확률이 높은 단어의 인덱스 추출\n",
    "\n",
    "            # teacher_forcing_ratio: 학습할 때 실제 목표 출력(ground-truth)을 사용하는 비율\n",
    "            teacher_force = random.random() < teacher_forcing_ratio\n",
    "            input = trg[t] if teacher_force else top1 # 현재의 출력 결과를 다음 입력에서 넣기\n",
    "\n",
    "        return outputs"
   ]
  },
  {
   "cell_type": "code",
   "execution_count": 14,
   "metadata": {},
   "outputs": [],
   "source": [
    "INPUT_DIM = len(SRC.vocab)\n",
    "OUTPUT_DIM = len(TRG.vocab)\n",
    "ENCODER_EMBED_DIM = 128\n",
    "DECODER_EMBED_DIM = 128\n",
    "ENCODER_HIDDEN_DIM = 256\n",
    "DECODER_HIDDEN_DIM = 256\n",
    "ENC_DROPOUT_RATIO = 0.5\n",
    "DEC_DROPOUT_RATIO = 0.5"
   ]
  },
  {
   "cell_type": "code",
   "execution_count": 15,
   "metadata": {},
   "outputs": [],
   "source": [
    "# 어텐션(attention) 객체 선언\n",
    "attn = Attention(ENCODER_HIDDEN_DIM, DECODER_HIDDEN_DIM)\n",
    "\n",
    "# 인코더(encoder)와 디코더(decoder) 객체 선언\n",
    "enc = Encoder(INPUT_DIM, ENCODER_EMBED_DIM, ENCODER_HIDDEN_DIM, DECODER_HIDDEN_DIM, ENC_DROPOUT_RATIO)\n",
    "dec = Decoder(OUTPUT_DIM, DECODER_EMBED_DIM, ENCODER_HIDDEN_DIM, DECODER_HIDDEN_DIM, DEC_DROPOUT_RATIO, attn)\n",
    "\n",
    "# Seq2Seq 객체 선언\n",
    "model = Seq2Seq(enc, dec, device).to(device)\n"
   ]
  },
  {
   "cell_type": "code",
   "execution_count": 16,
   "metadata": {},
   "outputs": [
    {
     "data": {
      "text/plain": [
       "Seq2Seq(\n",
       "  (encoder): Encoder(\n",
       "    (embedding): Embedding(42405, 128)\n",
       "    (rnn): GRU(128, 256, bidirectional=True)\n",
       "    (fc): Linear(in_features=512, out_features=256, bias=True)\n",
       "    (dropout): Dropout(p=0.5, inplace=False)\n",
       "  )\n",
       "  (decoder): Decoder(\n",
       "    (attention): Attention(\n",
       "      (attn): Linear(in_features=768, out_features=256, bias=True)\n",
       "      (v): Linear(in_features=256, out_features=1, bias=False)\n",
       "    )\n",
       "    (embedding): Embedding(32929, 128)\n",
       "    (rnn): GRU(640, 256)\n",
       "    (fc_out): Linear(in_features=896, out_features=32929, bias=True)\n",
       "    (dropout): Dropout(p=0.5, inplace=False)\n",
       "  )\n",
       ")"
      ]
     },
     "execution_count": 16,
     "metadata": {},
     "output_type": "execute_result"
    }
   ],
   "source": [
    "def init_weights(m):\n",
    "    for name, param in m.named_parameters():\n",
    "        if 'weight' in name:\n",
    "            nn.init.normal_(param.data, mean=0, std=0.01)\n",
    "        else:\n",
    "            nn.init.constant_(param.data, 0)\n",
    "            \n",
    "model.apply(init_weights)"
   ]
  },
  {
   "cell_type": "code",
   "execution_count": 17,
   "metadata": {},
   "outputs": [],
   "source": [
    "import torch.optim as optim\n",
    "\n",
    "# Adam optimizer로 학습 최적화\n",
    "optimizer = optim.Adam(model.parameters(), lr = 0.0001)\n",
    "\n",
    "# 뒷 부분의 패딩(padding)에 대해서는 값 무시\n",
    "TRG_PAD_IDX = TRG.vocab.stoi[TRG.pad_token]\n",
    "criterion = nn.CrossEntropyLoss(ignore_index=TRG_PAD_IDX)"
   ]
  },
  {
   "cell_type": "code",
   "execution_count": 18,
   "metadata": {},
   "outputs": [],
   "source": [
    "# 모델 학습(train) 함수\n",
    "def train(model, iterator, optimizer, criterion, clip):\n",
    "    model.train() # 학습 모드\n",
    "    epoch_loss = 0\n",
    "    \n",
    "    # 전체 학습 데이터를 확인하며\n",
    "    for i, batch in enumerate(iterator):\n",
    "        src = batch.src\n",
    "        trg = batch.trg\n",
    "        \n",
    "        optimizer.zero_grad()\n",
    "\n",
    "        output = model(src, trg)\n",
    "        # output: [출력 단어 개수, 배치 크기, 출력 차원]\n",
    "        output_dim = output.shape[-1]\n",
    "        \n",
    "        # 출력 단어의 인덱스 0은 사용하지 않음\n",
    "        output = output[1:].view(-1, output_dim)\n",
    "        # output = [(출력 단어의 개수 - 1) * batch size, output dim]\n",
    "        trg = trg[1:].view(-1)\n",
    "        # trg = [(타겟 단어의 개수 - 1) * batch size]\n",
    "        \n",
    "        # 모델의 출력 결과와 타겟 문장을 비교하여 손실 계산\n",
    "        loss = criterion(output, trg)\n",
    "        loss.backward() # 기울기(gradient) 계산\n",
    "        \n",
    "        # 기울기(gradient) clipping 진행\n",
    "        torch.nn.utils.clip_grad_norm_(model.parameters(), clip)\n",
    "        \n",
    "        # 파라미터 업데이트\n",
    "        optimizer.step()\n",
    "        \n",
    "        # 전체 손실 값 계산\n",
    "        epoch_loss += loss.item()\n",
    "        \n",
    "    return epoch_loss / len(iterator)"
   ]
  },
  {
   "cell_type": "code",
   "execution_count": 19,
   "metadata": {},
   "outputs": [],
   "source": [
    "# 모델 평가(evaluate) 함수\n",
    "def evaluate(model, iterator, criterion):\n",
    "    model.eval() # 평가 모드\n",
    "    epoch_loss = 0\n",
    "    \n",
    "    with torch.no_grad():\n",
    "        # 전체 평가 데이터를 확인하며\n",
    "        for i, batch in enumerate(iterator):\n",
    "            src = batch.src\n",
    "            trg = batch.trg\n",
    "\n",
    "            # 평가할 때 teacher forcing는 사용하지 않음\n",
    "            output = model(src, trg, 0)\n",
    "            # output: [출력 단어 개수, 배치 크기, 출력 차원]\n",
    "            output_dim = output.shape[-1]\n",
    "            \n",
    "            # 출력 단어의 인덱스 0은 사용하지 않음\n",
    "            output = output[1:].view(-1, output_dim)\n",
    "            # output = [(출력 단어의 개수 - 1) * batch size, output dim]\n",
    "            trg = trg[1:].view(-1)\n",
    "            # trg = [(타겟 단어의 개수 - 1) * batch size]\n",
    "\n",
    "            # 모델의 출력 결과와 타겟 문장을 비교하여 손실 계산\n",
    "            loss = criterion(output, trg)\n",
    "\n",
    "            # 전체 손실 값 계산\n",
    "            epoch_loss += loss.item()\n",
    "        \n",
    "    return epoch_loss / len(iterator)"
   ]
  },
  {
   "cell_type": "code",
   "execution_count": 20,
   "metadata": {},
   "outputs": [],
   "source": [
    "def epoch_time(start_time, end_time):\n",
    "    elapsed_time = end_time - start_time\n",
    "    elapsed_mins = int(elapsed_time / 60)\n",
    "    elapsed_secs = int(elapsed_time - (elapsed_mins * 60))\n",
    "    return elapsed_mins, elapsed_secs"
   ]
  },
  {
   "cell_type": "code",
   "execution_count": 21,
   "metadata": {},
   "outputs": [
    {
     "data": {
      "application/vnd.jupyter.widget-view+json": {
       "model_id": "30ae9a84bb88411cadb4c84f369a6d9c",
       "version_major": 2,
       "version_minor": 0
      },
      "text/plain": [
       "HBox(children=(IntProgress(value=0, max=10), HTML(value='')))"
      ]
     },
     "metadata": {},
     "output_type": "display_data"
    },
    {
     "name": "stdout",
     "output_type": "stream",
     "text": [
      "best_seq2seq_attn save\n",
      "Epoch: 01 | Time: 138m 57s\n",
      "\tTrain Loss: 4.938 | Train PPL: 139.444\n",
      "\tValidation Loss: 4.833 | Validation PPL: 125.552\n",
      "\t 1 th model save\n",
      "best_seq2seq_attn save\n",
      "Epoch: 02 | Time: 139m 7s\n",
      "\tTrain Loss: 3.941 | Train PPL: 51.486\n",
      "\tValidation Loss: 4.401 | Validation PPL: 81.559\n",
      "\t 2 th model save\n",
      "best_seq2seq_attn save\n",
      "Epoch: 03 | Time: 139m 26s\n",
      "\tTrain Loss: 3.513 | Train PPL: 33.555\n",
      "\tValidation Loss: 4.239 | Validation PPL: 69.365\n",
      "\t 3 th model save\n",
      "best_seq2seq_attn save\n",
      "Epoch: 04 | Time: 139m 14s\n",
      "\tTrain Loss: 3.285 | Train PPL: 26.705\n",
      "\tValidation Loss: 4.143 | Validation PPL: 62.979\n",
      "\t 4 th model save\n",
      "best_seq2seq_attn save\n",
      "Epoch: 05 | Time: 138m 57s\n",
      "\tTrain Loss: 3.144 | Train PPL: 23.204\n",
      "\tValidation Loss: 4.098 | Validation PPL: 60.201\n",
      "\t 5 th model save\n",
      "best_seq2seq_attn save\n",
      "Epoch: 06 | Time: 138m 59s\n",
      "\tTrain Loss: 3.046 | Train PPL: 21.028\n",
      "\tValidation Loss: 4.092 | Validation PPL: 59.880\n",
      "\t 6 th model save\n",
      "best_seq2seq_attn save\n",
      "Epoch: 07 | Time: 138m 58s\n",
      "\tTrain Loss: 2.974 | Train PPL: 19.578\n",
      "\tValidation Loss: 4.077 | Validation PPL: 58.980\n",
      "\t 7 th model save\n",
      "best_seq2seq_attn save\n",
      "Epoch: 08 | Time: 139m 0s\n",
      "\tTrain Loss: 2.915 | Train PPL: 18.458\n",
      "\tValidation Loss: 4.064 | Validation PPL: 58.190\n",
      "\t 8 th model save\n",
      "best_seq2seq_attn save\n",
      "Epoch: 09 | Time: 138m 55s\n",
      "\tTrain Loss: 2.869 | Train PPL: 17.626\n",
      "\tValidation Loss: 4.036 | Validation PPL: 56.594\n",
      "\t 9 th model save\n",
      "best_seq2seq_attn save\n",
      "Epoch: 10 | Time: 138m 50s\n",
      "\tTrain Loss: 2.825 | Train PPL: 16.864\n",
      "\tValidation Loss: 4.026 | Validation PPL: 56.064\n",
      "\t 10 th model save\n",
      "\n"
     ]
    }
   ],
   "source": [
    "import time\n",
    "import math\n",
    "import random\n",
    "from tqdm.auto import tqdm\n",
    "\n",
    "N_EPOCHS = 10\n",
    "CLIP = 1\n",
    "best_valid_loss = float('inf')\n",
    "\n",
    "for epoch in tqdm(range(N_EPOCHS)):\n",
    "    start_time = time.time() # 시작 시간 기록\n",
    "\n",
    "    train_loss = train(model, train_iterator, optimizer, criterion, CLIP)\n",
    "    valid_loss = evaluate(model, valid_iterator, criterion)\n",
    "\n",
    "    end_time = time.time() # 종료 시간 기록\n",
    "    epoch_mins, epoch_secs = epoch_time(start_time, end_time)\n",
    "\n",
    "    if valid_loss < best_valid_loss:\n",
    "        best_valid_loss = valid_loss\n",
    "        torch.save(model.state_dict(), 'best_seq2seq_attn_20.pt')\n",
    "        print(\"best_seq2seq_attn save\")\n",
    "\n",
    "    print(f'Epoch: {epoch + 1:02} | Time: {epoch_mins}m {epoch_secs}s')\n",
    "    print(f'\\tTrain Loss: {train_loss:.3f} | Train PPL: {math.exp(train_loss):.3f}')\n",
    "    print(f'\\tValidation Loss: {valid_loss:.3f} | Validation PPL: {math.exp(valid_loss):.3f}')\n",
    "    \n",
    "    torch.save(model.state_dict(), 'seq2seq_attn_20.pt')\n",
    "    print(\"\\t\",epoch+1,\"th model save\")"
   ]
  },
  {
   "cell_type": "markdown",
   "metadata": {},
   "source": [
    "### ADDITIONAL TRAINNING"
   ]
  },
  {
   "cell_type": "code",
   "execution_count": null,
   "metadata": {},
   "outputs": [],
   "source": [
    "# TRANSFER LERANING\n",
    "model.load_state_dict(torch.load('best_seq2seq_attn_20.pt'))"
   ]
  },
  {
   "cell_type": "code",
   "execution_count": 26,
   "metadata": {},
   "outputs": [],
   "source": [
    "# Add lr /10\n",
    "optimizer = optim.Adam(model.parameters(), lr=0.00001)"
   ]
  },
  {
   "cell_type": "code",
   "execution_count": null,
   "metadata": {},
   "outputs": [
    {
     "data": {
      "application/vnd.jupyter.widget-view+json": {
       "model_id": "3821ed54f6874bbb8fb1ad024ea58eec",
       "version_major": 2,
       "version_minor": 0
      },
      "text/plain": [
       "HBox(children=(IntProgress(value=0, max=5), HTML(value='')))"
      ]
     },
     "metadata": {},
     "output_type": "display_data"
    },
    {
     "name": "stdout",
     "output_type": "stream",
     "text": [
      "0 th model save\n",
      "best_seq2seq save\n",
      "Epoch: 02 | Time: 356m 4s\n",
      "\tTrain Loss: 2.867 | Train PPL: 17.591\n",
      "\tValidation Loss: 4.416 | Validation PPL: 82.783\n",
      "1 th model save\n",
      "best_seq2seq save\n",
      "Epoch: 03 | Time: 356m 54s\n",
      "\tTrain Loss: 2.862 | Train PPL: 17.501\n",
      "\tValidation Loss: 4.406 | Validation PPL: 81.961\n",
      "2 th model save\n",
      "best_seq2seq save\n",
      "Epoch: 04 | Time: 358m 58s\n",
      "\tTrain Loss: 2.858 | Train PPL: 17.419\n",
      "\tValidation Loss: 4.402 | Validation PPL: 81.637\n",
      "3 th model save\n"
     ]
    }
   ],
   "source": [
    "import time\n",
    "import math\n",
    "import random\n",
    "from tqdm.auto import tqdm\n",
    "\n",
    "N_EPOCHS = 5\n",
    "CLIP = 1\n",
    "best_valid_loss = float('inf')\n",
    "\n",
    "for epoch in tqdm(range(N_EPOCHS)):\n",
    "    start_time = time.time() # 시작 시간 기록\n",
    "\n",
    "    train_loss = train(model, train_iterator, optimizer, criterion, CLIP)\n",
    "    valid_loss = evaluate(model, valid_iterator, criterion)\n",
    "\n",
    "    end_time = time.time() # 종료 시간 기록\n",
    "    epoch_mins, epoch_secs = epoch_time(start_time, end_time)\n",
    "\n",
    "    if valid_loss < best_valid_loss:\n",
    "        best_valid_loss = valid_loss\n",
    "        torch.save(model.state_dict(), 'best_seq2seq_attn_20.pt')\n",
    "        print(\"best_seq2seq_attn_20 save\")\n",
    "\n",
    "    print(f'Epoch: {epoch + 1:02} | Time: {epoch_mins}m {epoch_secs}s')\n",
    "    print(f'\\tTrain Loss: {train_loss:.3f} | Train PPL: {math.exp(train_loss):.3f}')\n",
    "    print(f'\\tValidation Loss: {valid_loss:.3f} | Validation PPL: {math.exp(valid_loss):.3f}')\n",
    "    \n",
    "    torch.save(model.state_dict(), 'seq2seq_attn_20.pt')\n",
    "    print(epoch,\"th model save\")"
   ]
  },
  {
   "cell_type": "code",
   "execution_count": 22,
   "metadata": {},
   "outputs": [],
   "source": [
    "# 번역(translation) 함수\n",
    "def translate_sentence(sentence, src_field, trg_field, model, device, max_len=50):\n",
    "    model.eval() # 평가 모드\n",
    "\n",
    "    if isinstance(sentence, str):\n",
    "        nlp = spacy.load('fr_core_news_sm')\n",
    "        tokens = [token.text.lower() for token in nlp(sentence)]\n",
    "    else:\n",
    "        tokens = [token.lower() for token in sentence]\n",
    "\n",
    "    # 처음에 <sos> 토큰, 마지막에 <eos> 토큰 붙이기\n",
    "    tokens = [src_field.init_token] + tokens + [src_field.eos_token]\n",
    "    # print(f\"전체 소스 토큰: {tokens}\")\n",
    "\n",
    "    src_indexes = [src_field.vocab.stoi[token] for token in tokens]\n",
    "    # print(f\"소스 문장 인덱스: {src_indexes}\")\n",
    "\n",
    "    src_tensor = torch.LongTensor(src_indexes).unsqueeze(1).to(device)\n",
    "\n",
    "    # 인코더(endocer)에 소스 문장을 넣어 문맥 벡터(context vector) 계산\n",
    "    with torch.no_grad():\n",
    "        enc_outputs, hidden = model.encoder(src_tensor)\n",
    "\n",
    "    # 처음에는 <sos> 토큰 하나만 가지고 있도록 하기\n",
    "    trg_indexes = [trg_field.vocab.stoi[trg_field.init_token]]\n",
    "\n",
    "    for i in range(max_len):\n",
    "        # 이전에 출력한 단어가 현재 단어로 입력될 수 있도록\n",
    "        trg_tensor = torch.LongTensor([trg_indexes[-1]]).to(device)\n",
    "\n",
    "        with torch.no_grad():\n",
    "            output, hidden = model.decoder(trg_tensor, hidden, enc_outputs)\n",
    "\n",
    "        pred_token = output.argmax(1).item()\n",
    "        trg_indexes.append(pred_token) # 출력 문장에 더하기\n",
    "\n",
    "        # <eos>를 만나는 순간 끝\n",
    "        if pred_token == trg_field.vocab.stoi[trg_field.eos_token]:\n",
    "            break\n",
    "\n",
    "    # 각 출력 단어 인덱스를 실제 단어로 변환\n",
    "    trg_tokens = [trg_field.vocab.itos[i] for i in trg_indexes]\n",
    "\n",
    "    # 첫 번째 <sos>는 제외하고 출력 문장 반환\n",
    "    return trg_tokens[1:]"
   ]
  },
  {
   "cell_type": "code",
   "execution_count": 45,
   "metadata": {},
   "outputs": [
    {
     "name": "stdout",
     "output_type": "stream",
     "text": [
      "소스 문장: ['Reprise', 'de', 'la', 'session', '.']\n",
      "모델 출력 결과: The the session . <eos>\n"
     ]
    }
   ],
   "source": [
    "src = tokenize_fr(\"Reprise de la session.\")\n",
    "\n",
    "print(f'소스 문장: {src}')\n",
    "print(\"모델 출력 결과:\", \" \".join(translate_sentence(src, SRC, TRG, model, device)))"
   ]
  },
  {
   "cell_type": "code",
   "execution_count": 36,
   "metadata": {},
   "outputs": [
    {
     "data": {
      "text/plain": [
       "\"Mais l' alliance occidentale ne combat pas dans les Balkans aux seuls motifs de mettre un terme à la souffrance et de défendre le droit et la justice .\""
      ]
     },
     "execution_count": 36,
     "metadata": {},
     "output_type": "execute_result"
    }
   ],
   "source": [
    "src = \" \".join(['Mais', \"l'\", 'alliance', 'occidentale', 'ne', 'combat', 'pas', 'dans', 'les', 'Balkans', 'aux', 'seuls', 'motifs', 'de', 'mettre', 'un', 'terme', 'à', 'la', 'souffrance', 'et', 'de', 'défendre', 'le', 'droit', 'et', 'la', 'justice', '.'])\n",
    "src"
   ]
  },
  {
   "cell_type": "code",
   "execution_count": 39,
   "metadata": {},
   "outputs": [
    {
     "data": {
      "text/plain": [
       "'The western alliance is not just fighting in the Balkans to prevent suffering and to secure justice and the rule of law in the Balkans .'"
      ]
     },
     "execution_count": 39,
     "metadata": {},
     "output_type": "execute_result"
    }
   ],
   "source": [
    "pred_30 = \" \".join(['The', 'Western', 'alliance', 'is', 'not', 'fighting', 'in', 'the', '<unk>', 'to', 'the', 'the', 'reasons', 'of', 'putting', 'the', 'end', 'to', 'defend', 'and', 'and', 'justice', 'and', 'justice', '.'])\n",
    "trg"
   ]
  },
  {
   "cell_type": "code",
   "execution_count": null,
   "metadata": {},
   "outputs": [],
   "source": []
  },
  {
   "cell_type": "code",
   "execution_count": 40,
   "metadata": {},
   "outputs": [
    {
     "name": "stdout",
     "output_type": "stream",
     "text": [
      "소스 문장: Mais l' alliance occidentale ne combat pas dans les Balkans aux seuls motifs de mettre un terme à la souffrance et de défendre le droit et la justice .\n",
      "20 모델 출력 결과: But the Western alliance does not stop the the only grounds for the and to defend and law . <eos>\n",
      "30 모델 출력 결과: The Western alliance is not fighting in the <unk> to the the reasons of putting the end to defend and and justice and justice .\n"
     ]
    }
   ],
   "source": [
    "src_token = tokenize_fr(src)\n",
    "\n",
    "\n",
    "\n",
    "print(f'소스 문장: {src}')\n",
    "print(\"20 모델 출력 결과:\", \" \".join(translate_sentence(src_token, SRC, TRG, model, device)))\n",
    "print(\"30 모델 출력 결과:\", pred_30)"
   ]
  },
  {
   "cell_type": "code",
   "execution_count": 46,
   "metadata": {},
   "outputs": [
    {
     "name": "stdout",
     "output_type": "stream",
     "text": [
      "Defaulting to user installation because normal site-packages is not writeable\n",
      "Requirement already satisfied: sacrebleu in /opt/conda/lib/python3.6/site-packages (1.2.10)\n",
      "Requirement already satisfied: typing in /opt/conda/lib/python3.6/site-packages (from sacrebleu) (3.7.4.1)\n"
     ]
    }
   ],
   "source": [
    "!pip install sacrebleu"
   ]
  },
  {
   "cell_type": "code",
   "execution_count": 47,
   "metadata": {},
   "outputs": [
    {
     "name": "stdout",
     "output_type": "stream",
     "text": [
      "usage: sacrebleu [-h]\r\n",
      "                 [--test-set {wmt18,wmt18/test-ts,wmt18/dev,wmt17,wmt17/B,wmt17/tworefs,wmt17/improved,wmt17/dev,wmt17/ms,wmt16,wmt16/B,wmt16/tworefs,wmt16/dev,wmt15,wmt14,wmt14/full,wmt13,wmt12,wmt11,wmt10,wmt09,wmt08,wmt08/nc,wmt08/europarl,iwslt17,iwslt17/tst2016,iwslt17/tst2015,iwslt17/tst2014,iwslt17/tst2013,iwslt17/tst2012,iwslt17/tst2011,iwslt17/tst2010,iwslt17/dev2010}]\r\n",
      "                 [-lc] [--smooth {exp,floor,none}]\r\n",
      "                 [--tokenize {13a,intl,zh,none}] [--language-pair LANGPAIR]\r\n",
      "                 [--download DOWNLOAD] [--echo {src,ref,both}] [--input INPUT]\r\n",
      "                 [--metrics {bleu,chrf} [{bleu,chrf} ...]]\r\n",
      "                 [--chrf-order CHRF_ORDER] [--chrf-beta CHRF_BETA]\r\n",
      "                 [--chrf-whitespace] [--short] [--score-only] [--force]\r\n",
      "                 [--quiet] [--encoding ENCODING] [--citation] [-V]\r\n",
      "                 [refs [refs ...]]\r\n",
      "sacrebleu: error: unrecognized arguments: --list\r\n"
     ]
    }
   ],
   "source": [
    "!sacrebleu --list"
   ]
  },
  {
   "cell_type": "code",
   "execution_count": 90,
   "metadata": {},
   "outputs": [],
   "source": [
    "import sacrebleu\n",
    "\n",
    "def calculate_sacre_bleu(data, src_field, trg_field, model, device):\n",
    "    \n",
    "    trgs = []\n",
    "    pred_trgs = []\n",
    "    total_bleu = 0\n",
    "    n = 1000\n",
    "    \n",
    "    for i in tqdm(range(n)):\n",
    "        \n",
    "        src = vars(data[i])['src']\n",
    "        trg = \" \".join(vars(data[i])['trg'])\n",
    "        \n",
    "        pred_trg = translate_sentence(src, src_field, trg_field, model, device)\n",
    "        \n",
    "        #cut off <eos> token\n",
    "        pred_trg = \" \".join(pred_trg[:-1])\n",
    "        \n",
    "        pred_trgs.append(pred_trg)\n",
    "        trgs.append([trg])\n",
    "        \n",
    "        bleu = sacrebleu.corpus_bleu(trg, pred_trg)\n",
    "        total_bleu += bleu.score\n",
    "        \n",
    "        if i % 100 == 0 :\n",
    "            print(\"src :\",\" \".join(src))\n",
    "            print(\"trg :\",trg)\n",
    "            print(\"pred :\",pred_trg)\n",
    "            print(\"score:\",bleu.score)\n",
    "            print(\"\\n\")\n",
    "    avg = total_bleu / i        \n",
    "        \n",
    "        \n",
    "    return avg"
   ]
  },
  {
   "cell_type": "code",
   "execution_count": 91,
   "metadata": {},
   "outputs": [
    {
     "data": {
      "application/vnd.jupyter.widget-view+json": {
       "model_id": "0bc92626a2c44a68b6769fa75feccafe",
       "version_major": 2,
       "version_minor": 0
      },
      "text/plain": [
       "HBox(children=(IntProgress(value=0, max=1000), HTML(value='')))"
      ]
     },
     "metadata": {},
     "output_type": "display_data"
    },
    {
     "name": "stdout",
     "output_type": "stream",
     "text": [
      "src : C' est pourquoi une importance particulière doit être accordée au principe de subsidiarité .\n",
      "trg : For this reason , particular significance must be attached to the principle of subsidiarity .\n",
      "pred : That is why special importance must be given to the principle of subsidiarity .\n",
      "score: 36.41410562218428\n",
      "\n",
      "\n",
      "src : Les gouvernements ont le devoir d' y répondre en complétant les règles existantes par des protections alternatives à l' asile traditionnel .\n",
      "trg : Governments have a duty to deal with this by supplementing existing legislation with means of protection other than conventional asylum .\n",
      "pred : Governments have the duty to respond to the existing rules governing alternative by by traditional . .\n",
      "score: 5.908002399935303\n",
      "\n",
      "\n",
      "src : Le Parlement européen est tout à fait compétent pour contrôler l' ensemble des activités de la Commission européenne , jour après jour .\n",
      "trg : The European Parliament has the ability to monitor all the European Commission 's activities on a daily basis .\n",
      "pred : The European Parliament is fully responsible to monitor the whole of the European Council , at the day .\n",
      "score: 11.7942240532671\n",
      "\n",
      "\n",
      "src : Les deux alcools se trouvent donc en concurrence dans le même secteur .\n",
      "trg : Both types of alcohol , therefore , are competing in the same market .\n",
      "pred : The two are are in competition in the same sector .\n",
      "score: 12.011055432195764\n",
      "\n",
      "\n",
      "src : Le contraire .\n",
      "trg : What happened ?\n",
      "pred : On the contrary .\n",
      "score: 0.0\n",
      "\n",
      "\n",
      "src :     - Monsieur le Président , nous croyons tous aux mesures de soutien permettant de guérir des maladies dans notre société .\n",
      "trg :     Mr President , we all believe in supporting measures that help to cure diseases in our society .\n",
      "pred :     Mr President , we all all the measures to support the diseases in our society .\n",
      "score: 42.08598069524091\n",
      "\n",
      "\n",
      "src : Seul ce Parlement compte l' institution responsable du budget comme institution avec laquelle il dialogue .\n",
      "trg : This Parliament only has the institution responsible for the budget as the institution with which it dialogues .\n",
      "pred : Only this Parliament is the institution institution institution institution as institution as with dialogue .\n",
      "score: 5.875148471810145\n",
      "\n",
      "\n",
      "src : Ils sont le maillon le plus faible dans la chaîne commerciale .\n",
      "trg : They are the weakest link in the business chain .\n",
      "pred : They are the most link link in the commercial chain .\n",
      "score: 27.007097700389536\n",
      "\n",
      "\n",
      "src : Le Conseil reconnaît ces lacunes et a expressément promis des améliorations , sans résultats probants , du moins jusqu' à présent .\n",
      "trg : The Council recognises the shortcomings and has expressly promised improvements , so far with little noticeable result .\n",
      "pred : The Council recognises these deficiencies and has promised promised improvements , without results , at least .\n",
      "score: 15.733304984782075\n",
      "\n",
      "\n",
      "src : Nous disposons d' un seul véritable exemple de consolidation , c' est la législation douanière communautaire .\n",
      "trg : We have one actual example of consolidation . This is Community customs legislation .\n",
      "pred : We have one real example of consolidation , it is the Community legislation .\n",
      "score: 21.35901256790989\n",
      "\n",
      "\n",
      "BLEU score = 24.39\n"
     ]
    }
   ],
   "source": [
    "bleu_score = calculate_sacre_bleu(test_data, SRC, TRG, model, device)\n",
    "\n",
    "print(f'BLEU score = {bleu_score:.2f}')"
   ]
  }
 ],
 "metadata": {
  "kernelspec": {
   "display_name": "Python 3.6 CONDA (NGC/PyTorch 20.06) on Backend.AI",
   "language": "python",
   "name": "python3"
  },
  "language_info": {
   "codemirror_mode": {
    "name": "ipython",
    "version": 3
   },
   "file_extension": ".py",
   "mimetype": "text/x-python",
   "name": "python",
   "nbconvert_exporter": "python",
   "pygments_lexer": "ipython3",
   "version": "3.6.10"
  }
 },
 "nbformat": 4,
 "nbformat_minor": 4
}
