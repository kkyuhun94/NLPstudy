{
 "cells": [
  {
   "cell_type": "code",
   "execution_count": 1,
   "id": "d1dc5c94",
   "metadata": {},
   "outputs": [],
   "source": [
    "import stanza"
   ]
  },
  {
   "cell_type": "code",
   "execution_count": 2,
   "id": "97afd2a5",
   "metadata": {},
   "outputs": [],
   "source": [
    "zh_file = open('JPC4.3/traindev/zh-ja/train.zh', encoding='utf-8').read().split('\\n')"
   ]
  },
  {
   "cell_type": "code",
   "execution_count": 3,
   "id": "93fe946a",
   "metadata": {},
   "outputs": [
    {
     "data": {
      "text/plain": [
       "'搅拌器28具有转子32。'"
      ]
     },
     "execution_count": 3,
     "metadata": {},
     "output_type": "execute_result"
    }
   ],
   "source": [
    "zh_file[1]"
   ]
  },
  {
   "cell_type": "code",
   "execution_count": 4,
   "id": "d04135ea",
   "metadata": {},
   "outputs": [],
   "source": [
    "# Build Chinese model \n",
    "tokenizer = stanza.Pipeline('zh', processors='tokenize', verbose=False, use_gpu=False)"
   ]
  },
  {
   "cell_type": "code",
   "execution_count": 10,
   "id": "a5b34aec",
   "metadata": {},
   "outputs": [],
   "source": [
    "tokens = tokenizer(zh_file[0])"
   ]
  },
  {
   "cell_type": "code",
   "execution_count": 11,
   "id": "9338b4e9",
   "metadata": {},
   "outputs": [],
   "source": [
    "for i, sentence in enumerate(tokens.sentences):\n",
    "    joined_token = ' '.join([token.text for token in sentence.tokens])"
   ]
  },
  {
   "cell_type": "code",
   "execution_count": 12,
   "id": "aacaa365",
   "metadata": {},
   "outputs": [
    {
     "data": {
      "text/plain": [
       "'基板 42 具 有 传 感器 43 。'"
      ]
     },
     "execution_count": 12,
     "metadata": {},
     "output_type": "execute_result"
    }
   ],
   "source": [
    "joined_token"
   ]
  },
  {
   "cell_type": "code",
   "execution_count": 13,
   "id": "18bacb0b",
   "metadata": {},
   "outputs": [],
   "source": [
    "import stanza\n",
    "\n",
    "def tokenize_sentence(sentence : str) -> str :\n",
    "    \"\"\"\n",
    "    input : txt sentence\n",
    "    ouput : joined token with whitespace\n",
    "    1.tokenize\n",
    "    2.join the token\n",
    "    \"\"\"\n",
    "    tokenizer = stanza.Pipeline('zh', processors='tokenize', \n",
    "                            verbose=False, use_gpu=False)\n",
    "    \n",
    "    for i, sentence in enumerate(tokens.sentences):\n",
    "        joined_token = ' '.join([token.text for token in sentence.tokens])\n",
    "    \n",
    "    return joined_token"
   ]
  },
  {
   "cell_type": "code",
   "execution_count": 14,
   "id": "c22e3c5a",
   "metadata": {},
   "outputs": [
    {
     "data": {
      "text/plain": [
       "'基板 42 具 有 传 感器 43 。'"
      ]
     },
     "execution_count": 14,
     "metadata": {},
     "output_type": "execute_result"
    }
   ],
   "source": [
    "tokenize_sentence(zh_file[2])"
   ]
  },
  {
   "cell_type": "code",
   "execution_count": 15,
   "id": "b845bbe6",
   "metadata": {},
   "outputs": [],
   "source": [
    "def file_tokenizer(input_path : str, output_path : str) :\n",
    "    \"\"\"\n",
    "    input : .ko file_path\n",
    "    output : .txt file (consist of joined tokens)\n",
    "    .ko file tokenize with Mecab\n",
    "    \"\"\"\n",
    "    # read file\n",
    "    txt_file = open(input_path, encoding='utf-8').read().split('\\n')\n",
    "    # tokenize per line\n",
    "    joined_token_list = [ tokenize_sentence(line) for line in txt_file ]\n",
    "    tokenize_text = \"\\n\".join(joined_token_list)\n",
    "    \n",
    "    # save a text file\n",
    "    f = open(output_path ,'w')\n",
    "    f.write(tokenize_text)\n",
    "    f.close()\n",
    "    \n",
    "    return f"
   ]
  },
  {
   "cell_type": "code",
   "execution_count": 16,
   "id": "f8e24ee2",
   "metadata": {},
   "outputs": [
    {
     "data": {
      "text/plain": [
       "<_io.TextIOWrapper name='zhja_zh.txt' mode='w' encoding='UTF-8'>"
      ]
     },
     "execution_count": 16,
     "metadata": {},
     "output_type": "execute_result"
    }
   ],
   "source": [
    "file_tokenizer('JPC4.3/traindev/zh-ja/train.zh', 'zhja_zh.txt')"
   ]
  },
  {
   "cell_type": "code",
   "execution_count": null,
   "id": "afbeccfe",
   "metadata": {},
   "outputs": [],
   "source": []
  }
 ],
 "metadata": {
  "kernelspec": {
   "display_name": "Python 3",
   "language": "python",
   "name": "python3"
  },
  "language_info": {
   "codemirror_mode": {
    "name": "ipython",
    "version": 3
   },
   "file_extension": ".py",
   "mimetype": "text/x-python",
   "name": "python",
   "nbconvert_exporter": "python",
   "pygments_lexer": "ipython3",
   "version": "3.6.13"
  }
 },
 "nbformat": 4,
 "nbformat_minor": 5
}
