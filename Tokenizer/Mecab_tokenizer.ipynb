{
 "cells": [
  {
   "cell_type": "markdown",
   "id": "1b33cffb",
   "metadata": {},
   "source": [
    "### Mecab"
   ]
  },
  {
   "cell_type": "code",
   "execution_count": 11,
   "id": "2bfed2a9",
   "metadata": {},
   "outputs": [],
   "source": [
    "from konlpy.tag import Mecab\n",
    "tokenizer = Mecab()\n",
    "\n",
    "def tokenize_sentence(sentence : str) -> str :\n",
    "    \"\"\"\n",
    "    input : txt sentence\n",
    "    ouput : joined token with whitespace\n",
    "    1.tokenize\n",
    "    2.join the token\n",
    "    \"\"\"\n",
    "    tokenizer = Mecab()\n",
    "    joined_token = ' '.join(tokenizer.morphs(sentence))\n",
    "    \n",
    "    return joined_token\n"
   ]
  },
  {
   "cell_type": "code",
   "execution_count": 13,
   "id": "e2b2ddce",
   "metadata": {},
   "outputs": [],
   "source": [
    "def file_tokenizer(input_path : str, output_path : str) :\n",
    "    \"\"\"\n",
    "    input : .ko file_path\n",
    "    output : .txt file (consist of joined tokens)\n",
    "    .ko file tokenize with Mecab\n",
    "    \"\"\"\n",
    "    # read file\n",
    "    txt_file = open(input_path, encoding='utf-8').read().split('\\n')\n",
    "    # tokenize per line\n",
    "    joined_token_list = [ tokenize_sentence(line) for line in txt_file ]\n",
    "    tokenize_text = \"\\n\".join(joined_token_list)\n",
    "    \n",
    "    # save a text file\n",
    "    f = open(output_path ,'w')\n",
    "    f.write(tokenize_text)\n",
    "    f.close()\n",
    "    \n",
    "    return f\n",
    "        \n",
    "    "
   ]
  },
  {
   "cell_type": "code",
   "execution_count": 3,
   "id": "853fe64f",
   "metadata": {},
   "outputs": [],
   "source": [
    "txt_file = open('JPC4.3/traindev/ko-ja/train.ko', encoding='utf-8').read().split('\\n')"
   ]
  },
  {
   "cell_type": "code",
   "execution_count": 4,
   "id": "7779ecd7",
   "metadata": {},
   "outputs": [
    {
     "data": {
      "text/plain": [
       "['C 량이 0.5 ％ 미만에서는, 기계 구조 부품이나 공구의 소재로서 필요한 강도가 얻어지지 않는다.',\n",
       " '그래서, N 의 함유량은 0.01 ％ 이하로 한정한다.',\n",
       " '각각 범위의 하한 미만의 함유량에서는, 첨가 효과가 충분히 얻어지지 않는다.',\n",
       " '결과를 표 3 에 나타낸다.',\n",
       " '불가피적 불순물로서는, 예를 들어, O, Sn, Pb 등이 있다.',\n",
       " '바람직하게는 15 ? 35 시간이다.',\n",
       " '본 발명인 고탄소 열연 강판의 제조 방법에 대해, 이하에 상세하게 설명한다.',\n",
       " '본 발명의 제조 조건에 있어서의 한정 이유를 이하에 설명한다.',\n",
       " '이 박막 커패시터를 실시예 10 으로 하였다.',\n",
       " '이 박막 커패시터를 실시예 11 로 하였다.']"
      ]
     },
     "execution_count": 4,
     "metadata": {},
     "output_type": "execute_result"
    }
   ],
   "source": [
    "txt_file[:10]"
   ]
  },
  {
   "cell_type": "code",
   "execution_count": 5,
   "id": "5264f9e9",
   "metadata": {},
   "outputs": [],
   "source": [
    "joined_token_list = [ tokenize_sentence(line) for line in txt_file[:10]]"
   ]
  },
  {
   "cell_type": "code",
   "execution_count": 6,
   "id": "5f534e3e",
   "metadata": {},
   "outputs": [
    {
     "data": {
      "text/plain": [
       "['C 량 이 0 . 5 ％ 미만 에서 는 , 기계 구조 부품 이나 공구 의 소재 로서 필요 한 강도 가 얻 어 지 지 않 는다 .',\n",
       " '그래서 , N 의 함유량 은 0 . 01 ％ 이하 로 한정 한다 .',\n",
       " '각각 범위 의 하한 미만 의 함유량 에서 는 , 첨가 효과 가 충분히 얻 어 지 지 않 는다 .',\n",
       " '결과 를 표 3 에 나타낸다 .',\n",
       " '불가피 적 불순물 로서 는 , 예 를 들 어 , O , Sn , Pb 등 이 있 다 .',\n",
       " '바람직 하 게 는 15 ? 35 시간 이 다 .',\n",
       " '본 발명인 고 탄소 열연 강판 의 제조 방법 에 대해 , 이하 에 상세 하 게 설명 한다 .',\n",
       " '본 발명 의 제조 조건 에 있 어서 의 한정 이유 를 이하 에 설명 한다 .',\n",
       " '이 박막 커패시터 를 실시 예 10 으로 하 였 다 .',\n",
       " '이 박막 커패시터 를 실시 예 11 로 하 였 다 .']"
      ]
     },
     "execution_count": 6,
     "metadata": {},
     "output_type": "execute_result"
    }
   ],
   "source": [
    "joined_token_list"
   ]
  },
  {
   "cell_type": "code",
   "execution_count": 7,
   "id": "62b27ca0",
   "metadata": {},
   "outputs": [
    {
     "data": {
      "text/plain": [
       "'C 량 이 0 . 5 ％ 미만 에서 는 , 기계 구조 부품 이나 공구 의 소재 로서 필요 한 강도 가 얻 어 지 지 않 는다 .\\n그래서 , N 의 함유량 은 0 . 01 ％ 이하 로 한정 한다 .\\n각각 범위 의 하한 미만 의 함유량 에서 는 , 첨가 효과 가 충분히 얻 어 지 지 않 는다 .\\n결과 를 표 3 에 나타낸다 .\\n불가피 적 불순물 로서 는 , 예 를 들 어 , O , Sn , Pb 등 이 있 다 .\\n바람직 하 게 는 15 ? 35 시간 이 다 .\\n본 발명인 고 탄소 열연 강판 의 제조 방법 에 대해 , 이하 에 상세 하 게 설명 한다 .\\n본 발명 의 제조 조건 에 있 어서 의 한정 이유 를 이하 에 설명 한다 .\\n이 박막 커패시터 를 실시 예 10 으로 하 였 다 .\\n이 박막 커패시터 를 실시 예 11 로 하 였 다 .'"
      ]
     },
     "execution_count": 7,
     "metadata": {},
     "output_type": "execute_result"
    }
   ],
   "source": [
    "\"\\n\".join(joined_token_list)"
   ]
  },
  {
   "cell_type": "code",
   "execution_count": 9,
   "id": "cefaf8f1",
   "metadata": {},
   "outputs": [],
   "source": [
    "f = open('ko-ja_ko.txt','w')\n",
    "f.write(\"\\n\".join(joined_token_list))\n",
    "f.close()"
   ]
  },
  {
   "cell_type": "code",
   "execution_count": 14,
   "id": "a3cae7b6",
   "metadata": {},
   "outputs": [
    {
     "data": {
      "text/plain": [
       "<_io.TextIOWrapper name='koja_ko.txt' mode='w' encoding='UTF-8'>"
      ]
     },
     "execution_count": 14,
     "metadata": {},
     "output_type": "execute_result"
    }
   ],
   "source": [
    "file_tokenizer('JPC4.3/traindev/ko-ja/train.ko', 'koja_ko.txt')"
   ]
  },
  {
   "cell_type": "code",
   "execution_count": null,
   "id": "7dc78fae",
   "metadata": {},
   "outputs": [],
   "source": []
  }
 ],
 "metadata": {
  "kernelspec": {
   "display_name": "Python 3",
   "language": "python",
   "name": "python3"
  },
  "language_info": {
   "codemirror_mode": {
    "name": "ipython",
    "version": 3
   },
   "file_extension": ".py",
   "mimetype": "text/x-python",
   "name": "python",
   "nbconvert_exporter": "python",
   "pygments_lexer": "ipython3",
   "version": "3.6.13"
  }
 },
 "nbformat": 4,
 "nbformat_minor": 5
}
