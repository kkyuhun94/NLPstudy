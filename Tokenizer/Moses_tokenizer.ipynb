{
 "cells": [
  {
   "cell_type": "code",
   "execution_count": 6,
   "id": "fa1cb22e",
   "metadata": {},
   "outputs": [],
   "source": [
    "from nltk.tokenize.moses import MosesTokenizer\n",
    "tokenizer = MosesTokenizer()\n",
    "\n",
    "def tokenize_sentence(sentence : str) -> str :\n",
    "    \"\"\"\n",
    "    input : txt sentence\n",
    "    ouput : joined token with whitespace\n",
    "    1.tokenize\n",
    "    2.join the token\n",
    "    \"\"\"\n",
    "    tokenizer = MosesTokenizer()\n",
    "    joined_token = ' '.join(tokenizer.tokenize(sentence))\n",
    "    \n",
    "    return joined_token\n"
   ]
  },
  {
   "cell_type": "code",
   "execution_count": 7,
   "id": "c8070feb",
   "metadata": {},
   "outputs": [],
   "source": [
    "def file_tokenizer(input_path : str, output_path : str) :\n",
    "    \"\"\"\n",
    "    input : input file path\n",
    "    output : .txt file (consist of joined tokens)\n",
    "    tokenize with tokenize sentence \n",
    "    \"\"\"\n",
    "    # read file\n",
    "    txt_file = open(input_path, encoding='utf-8').read().split('\\n')\n",
    "    # tokenize per line\n",
    "    joined_token_list = [ tokenize_sentence(line) for line in txt_file ]\n",
    "    tokenize_text = \"\\n\".join(joined_token_list)\n",
    "    \n",
    "    # save a text file\n",
    "    f = open(output_path ,'w')\n",
    "    f.write(tokenize_text)\n",
    "    f.close()\n",
    "    \n",
    "    return f"
   ]
  },
  {
   "cell_type": "code",
   "execution_count": 1,
   "id": "8a9a0322",
   "metadata": {},
   "outputs": [],
   "source": [
    "from nltk.tokenize.moses import MosesTokenizer"
   ]
  },
  {
   "cell_type": "code",
   "execution_count": 2,
   "id": "6378fbc6",
   "metadata": {},
   "outputs": [],
   "source": [
    "tokenizer = MosesTokenizer()"
   ]
  },
  {
   "cell_type": "code",
   "execution_count": 11,
   "id": "79d9b2ee",
   "metadata": {},
   "outputs": [],
   "source": [
    "eng_file = open('JPC4.3/traindev/en-ja/train.en', encoding='utf-8').read().split('\\n')"
   ]
  },
  {
   "cell_type": "code",
   "execution_count": 12,
   "id": "788eb73f",
   "metadata": {},
   "outputs": [
    {
     "data": {
      "text/plain": [
       "['A hub is connected to the pen injection device.',\n",
       " 'The needle 103 is received by the hub 111 .',\n",
       " 'A needle is received by the hub.',\n",
       " 'In the temperature maintaining mode, the equilibrium of the furnace is greatly modified.',\n",
       " 'In the emergency operating mode, the flow of glass is stopped.',\n",
       " 'It has been mentioned that the replacement of oxygen by air is not possible using the supply pipes of these burners.',\n",
       " 'Consequently, their radiation allows the crown to be maintained at adequate temperatures.',\n",
       " 'The flow of molten glass is sufficient to maintain the temperature conditions.',\n",
       " 'The furnace 1 comprises a tank disposed in a closed chamber.',\n",
       " 'Similarly, welding laser output power may be adjusted to vary beam intensity.']"
      ]
     },
     "execution_count": 12,
     "metadata": {},
     "output_type": "execute_result"
    }
   ],
   "source": [
    "eng_file[:10]"
   ]
  },
  {
   "cell_type": "code",
   "execution_count": 5,
   "id": "0a60171b",
   "metadata": {},
   "outputs": [
    {
     "data": {
      "text/plain": [
       "'The needle 103 is received by the hub 111 .'"
      ]
     },
     "execution_count": 5,
     "metadata": {},
     "output_type": "execute_result"
    }
   ],
   "source": [
    "' '.join(tokenizer.tokenize(eng_file[1]))"
   ]
  },
  {
   "cell_type": "code",
   "execution_count": 8,
   "id": "d3e611dc",
   "metadata": {},
   "outputs": [
    {
     "data": {
      "text/plain": [
       "<_io.TextIOWrapper name='enja_en.txt' mode='w' encoding='UTF-8'>"
      ]
     },
     "execution_count": 8,
     "metadata": {},
     "output_type": "execute_result"
    }
   ],
   "source": [
    "file_tokenizer('JPC4.3/traindev/en-ja/train.en', 'enja_en.txt')"
   ]
  },
  {
   "cell_type": "code",
   "execution_count": 9,
   "id": "195f3e74",
   "metadata": {},
   "outputs": [],
   "source": [
    "eng_file = open('enja_en.txt', encoding='utf-8').read().split('\\n')"
   ]
  },
  {
   "cell_type": "code",
   "execution_count": 10,
   "id": "01bc425b",
   "metadata": {},
   "outputs": [
    {
     "data": {
      "text/plain": [
       "['A hub is connected to the pen injection device .',\n",
       " 'The needle 103 is received by the hub 111 .',\n",
       " 'A needle is received by the hub .',\n",
       " 'In the temperature maintaining mode , the equilibrium of the furnace is greatly modified .',\n",
       " 'In the emergency operating mode , the flow of glass is stopped .',\n",
       " 'It has been mentioned that the replacement of oxygen by air is not possible using the supply pipes of these burners .',\n",
       " 'Consequently , their radiation allows the crown to be maintained at adequate temperatures .',\n",
       " 'The flow of molten glass is sufficient to maintain the temperature conditions .',\n",
       " 'The furnace 1 comprises a tank disposed in a closed chamber .',\n",
       " 'Similarly , welding laser output power may be adjusted to vary beam intensity .']"
      ]
     },
     "execution_count": 10,
     "metadata": {},
     "output_type": "execute_result"
    }
   ],
   "source": [
    "eng_file[:10]"
   ]
  },
  {
   "cell_type": "code",
   "execution_count": null,
   "id": "2827b831",
   "metadata": {},
   "outputs": [],
   "source": []
  }
 ],
 "metadata": {
  "kernelspec": {
   "display_name": "Python 3",
   "language": "python",
   "name": "python3"
  },
  "language_info": {
   "codemirror_mode": {
    "name": "ipython",
    "version": 3
   },
   "file_extension": ".py",
   "mimetype": "text/x-python",
   "name": "python",
   "nbconvert_exporter": "python",
   "pygments_lexer": "ipython3",
   "version": "3.6.13"
  }
 },
 "nbformat": 4,
 "nbformat_minor": 5
}
