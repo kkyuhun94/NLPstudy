{
 "cells": [
  {
   "cell_type": "markdown",
   "id": "b3593a8a",
   "metadata": {},
   "source": [
    "## Pretokenize\n",
    "* 한국어 : Mecab \n",
    "* 일본어 : Juman++\n",
    "* 영어 : Moses\n",
    "* 중국어 : Stanford "
   ]
  },
  {
   "cell_type": "code",
   "execution_count": 1,
   "id": "4823fb01",
   "metadata": {},
   "outputs": [],
   "source": [
    "from konlpy.tag import Mecab\n",
    "tokenizer = Mecab()"
   ]
  },
  {
   "cell_type": "code",
   "execution_count": 2,
   "id": "2a520f77",
   "metadata": {},
   "outputs": [],
   "source": [
    "text = '안녕하세요, 저는 번역을 하기가 존나 싫습니다. 진짜로 존나 싫습니다.'"
   ]
  },
  {
   "cell_type": "code",
   "execution_count": 3,
   "id": "221de5b5",
   "metadata": {},
   "outputs": [
    {
     "data": {
      "text/plain": [
       "'안녕 하 세요 , 저 는 번역 을 하 기 가 존나 싫 습니다 . 진짜로 존나 싫 습니다 .'"
      ]
     },
     "execution_count": 3,
     "metadata": {},
     "output_type": "execute_result"
    }
   ],
   "source": [
    "' '.join(tokenizer.morphs(text))"
   ]
  },
  {
   "cell_type": "code",
   "execution_count": 4,
   "id": "b596e08a",
   "metadata": {},
   "outputs": [],
   "source": [
    "txt_file = open('JPC4.3/traindev/ko-ja/train.ko', encoding='utf-8').read().split('\\n')"
   ]
  },
  {
   "cell_type": "code",
   "execution_count": 5,
   "id": "992e4ccc",
   "metadata": {},
   "outputs": [
    {
     "data": {
      "text/plain": [
       "1000000"
      ]
     },
     "execution_count": 5,
     "metadata": {},
     "output_type": "execute_result"
    }
   ],
   "source": [
    "# 맨마지막 줄은 공백. \n",
    "len(txt_file[:-1])"
   ]
  },
  {
   "cell_type": "code",
   "execution_count": 6,
   "id": "49001d38",
   "metadata": {},
   "outputs": [],
   "source": [
    "txt_list = [line for line in txt_file][:-1]"
   ]
  },
  {
   "cell_type": "code",
   "execution_count": 7,
   "id": "cc9bf9b2",
   "metadata": {},
   "outputs": [],
   "source": [
    "tokenize_list = [' '.join(tokenizer.morphs(line)) for line in txt_file][:-1]"
   ]
  },
  {
   "cell_type": "code",
   "execution_count": 8,
   "id": "d7502e5a",
   "metadata": {},
   "outputs": [
    {
     "data": {
      "text/plain": [
       "1000000"
      ]
     },
     "execution_count": 8,
     "metadata": {},
     "output_type": "execute_result"
    }
   ],
   "source": [
    "len(tokenize_list)"
   ]
  },
  {
   "cell_type": "code",
   "execution_count": 9,
   "id": "4c95a6e2",
   "metadata": {
    "scrolled": true
   },
   "outputs": [
    {
     "data": {
      "text/plain": [
       "1000000"
      ]
     },
     "execution_count": 9,
     "metadata": {},
     "output_type": "execute_result"
    }
   ],
   "source": [
    "len(txt_list)"
   ]
  },
  {
   "cell_type": "code",
   "execution_count": 10,
   "id": "814049b4",
   "metadata": {},
   "outputs": [
    {
     "data": {
      "text/plain": [
       "'그래서, N 의 함유량은 0.01 ％ 이하로 한정한다.'"
      ]
     },
     "execution_count": 10,
     "metadata": {},
     "output_type": "execute_result"
    }
   ],
   "source": [
    "txt_list[1]"
   ]
  },
  {
   "cell_type": "code",
   "execution_count": 11,
   "id": "34c8b0bd",
   "metadata": {},
   "outputs": [
    {
     "data": {
      "text/plain": [
       "'그래서 , N 의 함유량 은 0 . 01 ％ 이하 로 한정 한다 .'"
      ]
     },
     "execution_count": 11,
     "metadata": {},
     "output_type": "execute_result"
    }
   ],
   "source": [
    "tokenize_list[1]"
   ]
  },
  {
   "cell_type": "markdown",
   "id": "40774e85",
   "metadata": {},
   "source": [
    "### Japanese tokenize with Juman\n",
    "\n",
    "pyknp : JUMAN++를 위한 Python module\n",
    "\n",
    "설치 방법 : https://deepage.net/machine_learning/2017/01/16/juman++.html\n",
    "\n",
    "* pyknp-0.3설치 필요"
   ]
  },
  {
   "cell_type": "code",
   "execution_count": 4,
   "id": "c1a47379",
   "metadata": {},
   "outputs": [
    {
     "data": {
      "text/plain": [
       "['チンパンジー', 'が', 'じゃんけん', 'を', '学習', 'する', 'こと', 'を', '発見', 'した']"
      ]
     },
     "execution_count": 4,
     "metadata": {},
     "output_type": "execute_result"
    }
   ],
   "source": [
    "from pyknp import Jumanpp\n",
    "juman = Jumanpp()\n",
    "result = juman.analysis('チンパンジーがじゃんけんを学習することを発見した')\n",
    "result_token = [mrph.midasi for mrph in result.mrph_list()]\n",
    "result_token"
   ]
  },
  {
   "cell_type": "code",
   "execution_count": 5,
   "id": "0e5db0bc",
   "metadata": {},
   "outputs": [],
   "source": [
    "ja_file = open('JPC4.3/traindev/ko-ja/train.ja', encoding='utf-8').read().split('\\n')"
   ]
  },
  {
   "cell_type": "code",
   "execution_count": 6,
   "id": "5fe0ca11",
   "metadata": {},
   "outputs": [
    {
     "data": {
      "text/plain": [
       "'そのため、Nの含有量は0.01%以下に限定する。'"
      ]
     },
     "execution_count": 6,
     "metadata": {},
     "output_type": "execute_result"
    }
   ],
   "source": [
    "ja_file[1]"
   ]
  },
  {
   "cell_type": "code",
   "execution_count": 7,
   "id": "ebc6f646",
   "metadata": {},
   "outputs": [
    {
     "data": {
      "text/plain": [
       "<pyknp.juman.mlist.MList at 0x10cf6c2e8>"
      ]
     },
     "execution_count": 7,
     "metadata": {},
     "output_type": "execute_result"
    }
   ],
   "source": [
    "token_ja = juman.analysis(ja_file[1])\n",
    "token_ja"
   ]
  },
  {
   "cell_type": "code",
   "execution_count": 10,
   "id": "2f5bdb72",
   "metadata": {},
   "outputs": [
    {
     "data": {
      "text/plain": [
       "'その ため 、 N の 含有 量 は 0 . 01 % 以下 に 限定 する 。'"
      ]
     },
     "execution_count": 10,
     "metadata": {},
     "output_type": "execute_result"
    }
   ],
   "source": [
    "' '.join([mrph.midasi for mrph in token_ja.mrph_list()])"
   ]
  },
  {
   "cell_type": "markdown",
   "id": "5758c520",
   "metadata": {},
   "source": [
    "### English tokenize with Moses\n",
    "NLTK 3.2.5 버전에서는 Moses를 포함했었음 "
   ]
  },
  {
   "cell_type": "code",
   "execution_count": 12,
   "id": "64647459",
   "metadata": {},
   "outputs": [],
   "source": [
    "eng_file = open('JPC4.3/traindev/en-ja/train.en', encoding='utf-8').read().split('\\n')"
   ]
  },
  {
   "cell_type": "code",
   "execution_count": 13,
   "id": "6bb7107b",
   "metadata": {},
   "outputs": [
    {
     "data": {
      "text/plain": [
       "1000001"
      ]
     },
     "execution_count": 13,
     "metadata": {},
     "output_type": "execute_result"
    }
   ],
   "source": [
    "len(eng_file)"
   ]
  },
  {
   "cell_type": "code",
   "execution_count": 14,
   "id": "529032d3",
   "metadata": {},
   "outputs": [
    {
     "name": "stdout",
     "output_type": "stream",
     "text": [
      "Collecting nltk==3.2.5\n",
      "  Downloading nltk-3.2.5.tar.gz (1.2 MB)\n",
      "\u001b[K     |████████████████████████████████| 1.2 MB 2.4 MB/s eta 0:00:01\n",
      "\u001b[?25hRequirement already satisfied: six in /Users/kkyuhun/opt/anaconda3/envs/nlp/lib/python3.6/site-packages (from nltk==3.2.5) (1.16.0)\n",
      "Building wheels for collected packages: nltk\n",
      "  Building wheel for nltk (setup.py) ... \u001b[?25ldone\n",
      "\u001b[?25h  Created wheel for nltk: filename=nltk-3.2.5-py3-none-any.whl size=1392140 sha256=87a17a98690ffe7faa087bfeaa8adba96f00788367ef37cd3c2c75b3a255eeb2\n",
      "  Stored in directory: /Users/kkyuhun/Library/Caches/pip/wheels/f2/7f/71/cb36468789a03b5e2908281c8e1ce093e6860258b6b61677d8\n",
      "Successfully built nltk\n",
      "Installing collected packages: nltk\n",
      "Successfully installed nltk-3.2.5\n"
     ]
    }
   ],
   "source": [
    "!pip install nltk==3.2.5"
   ]
  },
  {
   "cell_type": "code",
   "execution_count": 17,
   "id": "84261489",
   "metadata": {},
   "outputs": [
    {
     "name": "stdout",
     "output_type": "stream",
     "text": [
      "showing info https://raw.githubusercontent.com/nltk/nltk_data/gh-pages/index.xml\n"
     ]
    },
    {
     "data": {
      "text/plain": [
       "True"
      ]
     },
     "execution_count": 17,
     "metadata": {},
     "output_type": "execute_result"
    }
   ],
   "source": [
    "import nltk\n",
    "nltk.download()"
   ]
  },
  {
   "cell_type": "code",
   "execution_count": 19,
   "id": "d6d56194",
   "metadata": {},
   "outputs": [],
   "source": [
    "from nltk.tokenize.moses import MosesTokenizer"
   ]
  },
  {
   "cell_type": "code",
   "execution_count": 20,
   "id": "63e37c4b",
   "metadata": {},
   "outputs": [],
   "source": [
    "mose_tokenizer = MosesTokenizer()"
   ]
  },
  {
   "cell_type": "code",
   "execution_count": 23,
   "id": "c691c82c",
   "metadata": {},
   "outputs": [],
   "source": [
    "text = 'hi, I hate translation, really motherfucking translation'"
   ]
  },
  {
   "cell_type": "code",
   "execution_count": 24,
   "id": "8fd1e3ee",
   "metadata": {},
   "outputs": [
    {
     "data": {
      "text/plain": [
       "['hi',\n",
       " ',',\n",
       " 'I',\n",
       " 'hate',\n",
       " 'translation',\n",
       " ',',\n",
       " 'really',\n",
       " 'motherfucking',\n",
       " 'translation']"
      ]
     },
     "execution_count": 24,
     "metadata": {},
     "output_type": "execute_result"
    }
   ],
   "source": [
    "mose_tokenizer.tokenize(text)"
   ]
  },
  {
   "cell_type": "code",
   "execution_count": 25,
   "id": "ed356b1d",
   "metadata": {},
   "outputs": [
    {
     "data": {
      "text/plain": [
       "'The needle 103 is received by the hub 111 .'"
      ]
     },
     "execution_count": 25,
     "metadata": {},
     "output_type": "execute_result"
    }
   ],
   "source": [
    "eng_file[1]"
   ]
  },
  {
   "cell_type": "code",
   "execution_count": 26,
   "id": "2e9d6660",
   "metadata": {},
   "outputs": [
    {
     "data": {
      "text/plain": [
       "'The needle 103 is received by the hub 111 .'"
      ]
     },
     "execution_count": 26,
     "metadata": {},
     "output_type": "execute_result"
    }
   ],
   "source": [
    "# 영어의 경우 띄어쓰기 체계가 잘 잡혀있어서 띄어쓰기 위주로 나뉨 \n",
    "' '.join(mose_tokenizer.tokenize(eng_file[1]))"
   ]
  },
  {
   "cell_type": "markdown",
   "id": "1bb7e0b0",
   "metadata": {},
   "source": [
    "### Chinese tokenize with Stanford Parser\n",
    "\n",
    "stanford - CoreNLP라이브러리는 자바로 작성되어있음\n",
    "\n",
    "Stanza : Stanford parser의 python 라이브러리"
   ]
  },
  {
   "cell_type": "code",
   "execution_count": 56,
   "id": "762ed2ed",
   "metadata": {},
   "outputs": [
    {
     "name": "stdout",
     "output_type": "stream",
     "text": [
      "Collecting package metadata (current_repodata.json): done\n",
      "Solving environment: failed with initial frozen solve. Retrying with flexible solve.\n",
      "Solving environment: failed with repodata from current_repodata.json, will retry with next repodata source.\n",
      "Collecting package metadata (repodata.json): done\n",
      "Solving environment: done\n",
      "\n",
      "\n",
      "==> WARNING: A newer version of conda exists. <==\n",
      "  current version: 4.9.2\n",
      "  latest version: 4.10.1\n",
      "\n",
      "Please update conda by running\n",
      "\n",
      "    $ conda update -n base -c defaults conda\n",
      "\n",
      "\n",
      "\n",
      "## Package Plan ##\n",
      "\n",
      "  environment location: /Users/kkyuhun/opt/anaconda3/envs/nlp\n",
      "\n",
      "  added / updated specs:\n",
      "    - stanza\n",
      "\n",
      "\n",
      "The following packages will be downloaded:\n",
      "\n",
      "    package                    |            build\n",
      "    ---------------------------|-----------------\n",
      "    _pytorch_select-0.1        |            cpu_0         169 KB\n",
      "    brotlipy-0.7.0             |py36h9ed2024_1003         332 KB\n",
      "    chardet-4.0.0              |py36hecd8cb5_1003         198 KB\n",
      "    cryptography-3.4.7         |   py36h2fd3fbb_0         687 KB\n",
      "    idna-2.10                  |     pyhd3eb1b0_0          52 KB\n",
      "    intel-openmp-2021.2.0      |     hecd8cb5_564         942 KB\n",
      "    libprotobuf-3.14.0         |       h2842e9f_0         1.8 MB\n",
      "    mkl-service-2.3.0          |   py36h9ed2024_0          41 KB\n",
      "    mkl_fft-1.3.0              |   py36ha059aab_0         156 KB\n",
      "    mkl_random-1.1.1           |   py36h959d312_0         290 KB\n",
      "    ninja-1.10.2               |       hf7b0b51_1         106 KB\n",
      "    numpy-1.19.2               |   py36h456fd55_0          21 KB\n",
      "    numpy-base-1.19.2          |   py36hcfb5961_0         4.0 MB\n",
      "    protobuf-3.14.0            |   py36h23ab428_1         289 KB\n",
      "    pyopenssl-20.0.1           |     pyhd3eb1b0_1          49 KB\n",
      "    pysocks-1.7.1              |   py36hecd8cb5_0          31 KB\n",
      "    pytorch-1.4.0              |cpu_py36hf9bb1df_0        26.3 MB\n",
      "    requests-2.25.1            |     pyhd3eb1b0_0          52 KB\n",
      "    stanza-1.2.1               |           py36_0         457 KB  stanfordnlp\n",
      "    tqdm-4.59.0                |     pyhd3eb1b0_1          93 KB\n",
      "    urllib3-1.26.4             |     pyhd3eb1b0_0         105 KB\n",
      "    ------------------------------------------------------------\n",
      "                                           Total:        36.0 MB\n",
      "\n",
      "The following NEW packages will be INSTALLED:\n",
      "\n",
      "  _pytorch_select    pkgs/main/osx-64::_pytorch_select-0.1-cpu_0\n",
      "  blas               pkgs/main/osx-64::blas-1.0-mkl\n",
      "  brotlipy           pkgs/main/osx-64::brotlipy-0.7.0-py36h9ed2024_1003\n",
      "  chardet            pkgs/main/osx-64::chardet-4.0.0-py36hecd8cb5_1003\n",
      "  cryptography       pkgs/main/osx-64::cryptography-3.4.7-py36h2fd3fbb_0\n",
      "  idna               pkgs/main/noarch::idna-2.10-pyhd3eb1b0_0\n",
      "  intel-openmp       pkgs/main/osx-64::intel-openmp-2021.2.0-hecd8cb5_564\n",
      "  libprotobuf        pkgs/main/osx-64::libprotobuf-3.14.0-h2842e9f_0\n",
      "  mkl                pkgs/main/osx-64::mkl-2019.4-233\n",
      "  mkl-service        pkgs/main/osx-64::mkl-service-2.3.0-py36h9ed2024_0\n",
      "  mkl_fft            pkgs/main/osx-64::mkl_fft-1.3.0-py36ha059aab_0\n",
      "  mkl_random         pkgs/main/osx-64::mkl_random-1.1.1-py36h959d312_0\n",
      "  ninja              pkgs/main/osx-64::ninja-1.10.2-hf7b0b51_1\n",
      "  numpy              pkgs/main/osx-64::numpy-1.19.2-py36h456fd55_0\n",
      "  numpy-base         pkgs/main/osx-64::numpy-base-1.19.2-py36hcfb5961_0\n",
      "  protobuf           pkgs/main/osx-64::protobuf-3.14.0-py36h23ab428_1\n",
      "  pyopenssl          pkgs/main/noarch::pyopenssl-20.0.1-pyhd3eb1b0_1\n",
      "  pysocks            pkgs/main/osx-64::pysocks-1.7.1-py36hecd8cb5_0\n",
      "  pytorch            pkgs/main/osx-64::pytorch-1.4.0-cpu_py36hf9bb1df_0\n",
      "  requests           pkgs/main/noarch::requests-2.25.1-pyhd3eb1b0_0\n",
      "  stanza             stanfordnlp/osx-64::stanza-1.2.1-py36_0\n",
      "  tqdm               pkgs/main/noarch::tqdm-4.59.0-pyhd3eb1b0_1\n",
      "  urllib3            pkgs/main/noarch::urllib3-1.26.4-pyhd3eb1b0_0\n",
      "\n",
      "\n",
      "\n",
      "Downloading and Extracting Packages\n",
      "numpy-1.19.2         | 21 KB     | ##################################### | 100% \n",
      "mkl_fft-1.3.0        | 156 KB    | ##################################### | 100% \n",
      "idna-2.10            | 52 KB     | ##################################### | 100% \n",
      "tqdm-4.59.0          | 93 KB     | ##################################### | 100% \n",
      "pyopenssl-20.0.1     | 49 KB     | ##################################### | 100% \n",
      "intel-openmp-2021.2. | 942 KB    | ##################################### | 100% \n",
      "mkl-service-2.3.0    | 41 KB     | ##################################### | 100% \n",
      "pysocks-1.7.1        | 31 KB     | ##################################### | 100% \n",
      "urllib3-1.26.4       | 105 KB    | ##################################### | 100% \n",
      "brotlipy-0.7.0       | 332 KB    | ##################################### | 100% \n",
      "_pytorch_select-0.1  | 169 KB    | ##################################### | 100% \n",
      "requests-2.25.1      | 52 KB     | ##################################### | 100% \n",
      "numpy-base-1.19.2    | 4.0 MB    | ##################################### | 100% \n",
      "cryptography-3.4.7   | 687 KB    | ##################################### | 100% \n",
      "ninja-1.10.2         | 106 KB    | ##################################### | 100% \n",
      "pytorch-1.4.0        | 26.3 MB   | ##################################### | 100% \n",
      "stanza-1.2.1         | 457 KB    | ##################################### | 100% \n",
      "libprotobuf-3.14.0   | 1.8 MB    | ##################################### | 100% \n",
      "chardet-4.0.0        | 198 KB    | ##################################### | 100% \n",
      "mkl_random-1.1.1     | 290 KB    | ##################################### | 100% \n",
      "protobuf-3.14.0      | 289 KB    | ##################################### | 100% \n",
      "Preparing transaction: done\n",
      "Verifying transaction: | WARNING conda.core.path_actions:verify(962): Unable to create environments file. Path not writable.\n",
      "  environment location: /Users/kkyuhun/.conda/environments.txt\n",
      "\n",
      "done\n",
      "Executing transaction: - WARNING conda.core.envs_manager:register_env(50): Unable to register environment. Path not writable or missing.\n",
      "  environment location: /Users/kkyuhun/opt/anaconda3/envs/nlp\n",
      "  registry file: /Users/kkyuhun/.conda/environments.txt\n",
      "done\n",
      "\n",
      "Note: you may need to restart the kernel to use updated packages.\n"
     ]
    }
   ],
   "source": [
    "conda install -c stanfordnlp stanza"
   ]
  },
  {
   "cell_type": "code",
   "execution_count": 3,
   "id": "04e5a24d",
   "metadata": {},
   "outputs": [
    {
     "data": {
      "application/vnd.jupyter.widget-view+json": {
       "model_id": "9d6433b300774e92b8164ac088263386",
       "version_major": 2,
       "version_minor": 0
      },
      "text/plain": [
       "Downloading https://raw.githubusercontent.com/stanfordnlp/stanza-resources/main/resources_1.2.1.json:   0%|   …"
      ]
     },
     "metadata": {},
     "output_type": "display_data"
    },
    {
     "name": "stderr",
     "output_type": "stream",
     "text": [
      "2021-06-14 18:13:57 INFO: \"zh\" is an alias for \"zh-hans\"\n",
      "2021-06-14 18:13:57 INFO: Downloading default packages for language: zh-hans (Simplified_Chinese)...\n"
     ]
    },
    {
     "data": {
      "application/vnd.jupyter.widget-view+json": {
       "model_id": "73d6ec08935e4df78c8667e59750ffc6",
       "version_major": 2,
       "version_minor": 0
      },
      "text/plain": [
       "Downloading http://nlp.stanford.edu/software/stanza/1.2.1/zh-hans/default.zip:   0%|          | 0.00/707M [00:…"
      ]
     },
     "metadata": {},
     "output_type": "display_data"
    },
    {
     "name": "stderr",
     "output_type": "stream",
     "text": [
      "2021-06-14 18:16:36 INFO: Finished downloading models and saved to /Users/kkyuhun/stanza_resources.\n"
     ]
    }
   ],
   "source": [
    "import stanza\n",
    "# download chinese model\n",
    "stanza.download('zh') "
   ]
  },
  {
   "cell_type": "code",
   "execution_count": 24,
   "id": "8a5a53f1",
   "metadata": {},
   "outputs": [],
   "source": [
    "# Build Chinese model \n",
    "zh_nlp = stanza.Pipeline('zh', processors='tokenize', verbose=False, use_gpu=False)"
   ]
  },
  {
   "cell_type": "code",
   "execution_count": 5,
   "id": "5ed56bda",
   "metadata": {},
   "outputs": [],
   "source": [
    "zh_file = open('JPC4.3/traindev/zh-ja/train.zh', encoding='utf-8').read().split('\\n')"
   ]
  },
  {
   "cell_type": "code",
   "execution_count": 6,
   "id": "1d459c23",
   "metadata": {},
   "outputs": [
    {
     "data": {
      "text/plain": [
       "'搅拌器28具有转子32。'"
      ]
     },
     "execution_count": 6,
     "metadata": {},
     "output_type": "execute_result"
    }
   ],
   "source": [
    "zh_file[1]"
   ]
  },
  {
   "cell_type": "code",
   "execution_count": 11,
   "id": "b3a36789",
   "metadata": {},
   "outputs": [
    {
     "name": "stdout",
     "output_type": "stream",
     "text": [
      "<class 'stanza.models.common.doc.Document'>\n"
     ]
    }
   ],
   "source": [
    "zh_doc = zh_nlp(zh_file[1])\n",
    "print(type(zh_doc))"
   ]
  },
  {
   "cell_type": "code",
   "execution_count": 32,
   "id": "04b902dc",
   "metadata": {},
   "outputs": [
    {
     "name": "stdout",
     "output_type": "stream",
     "text": [
      "====== Sentence 1 tokens =======\n",
      "id: (1,)\ttext: 搅拌\n",
      "id: (2,)\ttext: 器\n",
      "id: (3,)\ttext: 28\n",
      "id: (4,)\ttext: 具有\n",
      "id: (5,)\ttext: 转子\n",
      "id: (6,)\ttext: 32\n",
      "id: (7,)\ttext: 。\n"
     ]
    }
   ],
   "source": [
    "for i, sentence in enumerate(zh_doc.sentences):\n",
    "    print(f'====== Sentence {i+1} tokens =======')\n",
    "    print(*[f'id: {token.id}\\ttext: {token.text}' for token in sentence.tokens], sep='\\n')"
   ]
  },
  {
   "cell_type": "code",
   "execution_count": 43,
   "id": "a5ed0c09",
   "metadata": {},
   "outputs": [
    {
     "name": "stdout",
     "output_type": "stream",
     "text": [
      "['搅拌器28具有转子32。']\n"
     ]
    }
   ],
   "source": [
    "print([sentence.text for sentence in zh_doc.sentences])"
   ]
  },
  {
   "cell_type": "code",
   "execution_count": 52,
   "id": "b5ad5522",
   "metadata": {},
   "outputs": [
    {
     "name": "stdout",
     "output_type": "stream",
     "text": [
      "搅拌 器 28 具有 转子 32 。\n"
     ]
    }
   ],
   "source": [
    "for i, sentence in enumerate(zh_doc.sentences):\n",
    "    print(' '.join([token.text for token in sentence.tokens]))"
   ]
  },
  {
   "cell_type": "code",
   "execution_count": null,
   "id": "10490c56",
   "metadata": {},
   "outputs": [],
   "source": []
  }
 ],
 "metadata": {
  "kernelspec": {
   "display_name": "Python 3",
   "language": "python",
   "name": "python3"
  },
  "language_info": {
   "codemirror_mode": {
    "name": "ipython",
    "version": 3
   },
   "file_extension": ".py",
   "mimetype": "text/x-python",
   "name": "python",
   "nbconvert_exporter": "python",
   "pygments_lexer": "ipython3",
   "version": "3.6.13"
  }
 },
 "nbformat": 4,
 "nbformat_minor": 5
}
